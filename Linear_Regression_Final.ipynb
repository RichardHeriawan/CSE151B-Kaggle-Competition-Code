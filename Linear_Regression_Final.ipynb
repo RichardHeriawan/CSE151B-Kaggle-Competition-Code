{
 "cells": [
  {
   "cell_type": "markdown",
   "metadata": {
    "id": "J3VsmcZU4O8I"
   },
   "source": [
    "# 1 - Multilayer Perceptron\n",
    "\n",
    "In this series, we'll be building machine learning models (specifically, neural networks) to perform image classification using PyTorch and Torchvision. \n",
    "\n",
    "In this first notebook, we'll start with one of the most basic neural network architectures, a multilayer perceptron (MLP), also known as a feedforward network. The dataset we'll be using is the famous MNIST dataset, a dataset of 28x28 black and white images consisting of handwritten digits, 0 to 9.\n",
    "\n",
    "We'll process the dataset, build our model, and then train our model. Afterwards, we'll do a short dive into what the model has actually learned.\n",
    "\n",
    "### Data Processing\n",
    "\n",
    "Let's start by importing all the modules we'll need. The main ones we need to import are:\n",
    "- torch for general PyTorch functionality\n",
    "- torch.nn and torch.nn.functional for neural network based functions\n",
    "- torch.optim for our optimizer which will update the parameters of our neural network\n",
    "- torch.utils.data for handling the dataset\n",
    "- torchvision.transforms for data augmentation\n",
    "- torchvision.datasets for loading the dataset\n",
    "- sklearn's metrics for visualizing a confusion matrix\n",
    "- sklearn's decomposition and manifold for visualizing the neural network's representations in two dimensions\n",
    "- matplotlib for plotting"
   ]
  },
  {
   "cell_type": "code",
   "execution_count": 2,
   "metadata": {
    "id": "CHadwpvmREvE"
   },
   "outputs": [],
   "source": [
    "import torch\n",
    "import torch.nn as nn\n",
    "import torch.nn.functional as F\n",
    "import torch.optim as optim\n",
    "import torch.utils.data as data\n",
    "from torch.utils.data import Dataset\n",
    "from torchvision.transforms import ToTensor\n",
    "\n",
    "import torchvision.transforms as transforms\n",
    "import torchvision.datasets as datasets\n",
    "\n",
    "from sklearn import metrics\n",
    "from sklearn import decomposition\n",
    "from sklearn import manifold\n",
    "from tqdm.notebook import trange, tqdm\n",
    "import matplotlib.pyplot as plt\n",
    "import numpy as np\n",
    "import pandas as pd\n",
    "\n",
    "import copy\n",
    "import random\n",
    "import time"
   ]
  },
  {
   "cell_type": "markdown",
   "metadata": {
    "id": "WFMp16oI4O8N"
   },
   "source": [
    "To ensure we get reproducible results we set the random seed for Python, Numpy and PyTorch."
   ]
  },
  {
   "cell_type": "markdown",
   "metadata": {},
   "source": [
    "# RNG SEED"
   ]
  },
  {
   "cell_type": "code",
   "execution_count": 3,
   "metadata": {
    "id": "rvBiLgLAREvN"
   },
   "outputs": [],
   "source": [
    "SEED = 12345\n",
    "\n",
    "random.seed(SEED)\n",
    "np.random.seed(SEED)\n",
    "torch.manual_seed(SEED)\n",
    "torch.cuda.manual_seed(SEED)\n",
    "torch.backends.cudnn.deterministic = True"
   ]
  },
  {
   "cell_type": "code",
   "execution_count": 4,
   "metadata": {},
   "outputs": [],
   "source": [
    "class CustomDataset(Dataset):\n",
    "    def __init__(self, train):\n",
    "        self.train_data = torch.tensor(pd.read_csv(train).astype('float32').values)\n",
    "        self.targets = torch.tensor(pd.read_csv(\"train_targets.csv\").astype('float32').values)\n",
    "\n",
    "    def __len__(self):\n",
    "        return len(self.train_data)\n",
    "\n",
    "    def __getitem__(self, idx):\n",
    "        if torch.is_tensor(idx):\n",
    "            idx = idx.tolist()\n",
    "        \n",
    "        return self.train_data[idx], self.targets[idx]"
   ]
  },
  {
   "cell_type": "markdown",
   "metadata": {
    "id": "yDMpvXwB4O8Q"
   },
   "source": [
    "The first thing we'll do is load our dataset.\n",
    "\n",
    "This will automatically download the training set for the MNIST dataset and save it in a folder called `.data`. It will create the folder if it does not exist."
   ]
  },
  {
   "cell_type": "code",
   "execution_count": 5,
   "metadata": {
    "id": "UOIQVy-cREvQ"
   },
   "outputs": [],
   "source": [
    "train_data = CustomDataset(\"train_engineered.csv\")"
   ]
  },
  {
   "cell_type": "code",
   "execution_count": 6,
   "metadata": {},
   "outputs": [],
   "source": [
    "# train_data.features"
   ]
  },
  {
   "cell_type": "code",
   "execution_count": 7,
   "metadata": {},
   "outputs": [
    {
     "data": {
      "text/plain": [
       "(tensor([ 0.0000,  0.0000, -0.1845,  0.0000, -0.0361]), tensor([-0.5643]))"
      ]
     },
     "execution_count": 7,
     "metadata": {},
     "output_type": "execute_result"
    }
   ],
   "source": [
    "train_data[0]"
   ]
  },
  {
   "cell_type": "markdown",
   "metadata": {
    "id": "ayyHLZjg4O8o"
   },
   "source": [
    "We can simply check the `len` of the datasets to see how many examples are within each."
   ]
  },
  {
   "cell_type": "code",
   "execution_count": 8,
   "metadata": {
    "colab": {
     "base_uri": "https://localhost:8080/",
     "height": 53
    },
    "id": "fPo3pfgciRo3",
    "outputId": "ae4c193d-f5a8-491b-89c7-ebf9fd456312"
   },
   "outputs": [
    {
     "name": "stdout",
     "output_type": "stream",
     "text": [
      "Number of training examples: 1710670\n"
     ]
    }
   ],
   "source": [
    "print(f'Number of training examples: {len(train_data)}')"
   ]
  },
  {
   "cell_type": "markdown",
   "metadata": {
    "id": "HDgsLY3k4O87"
   },
   "source": [
    "The MNIST dataset comes with a training and test set, but not a validation set. We want to use a validation set to check how well our model performs on unseen data. Why don't we just use the test data? We should only be measuring our performance over the test set once, after all training is done. We can think of the validation set as a proxy test set we are allowed to look at as much as we want. \n",
    "\n",
    "Furthermore, we create a validation set, taking 10% of the training set. **Note:** the validation set should always be created from the training set. Never take the validation set from the test set. When researchers publish research papers they should be comparing performance across the test set and the only way to ensure this is a fair comparison is for all researchers to use the same test set. If the validation set is taken from the test set, then the test set is not the same as everyone else's and the results cannot be compared against each other.\n",
    "\n",
    "First, we have to define the exact number of examples that we want to be in each split of the training/validation sets."
   ]
  },
  {
   "cell_type": "code",
   "execution_count": 9,
   "metadata": {
    "id": "2QI6JckYREve"
   },
   "outputs": [],
   "source": [
    "VALID_RATIO = 0.95\n",
    "\n",
    "n_train_examples = int(len(train_data) * VALID_RATIO)\n",
    "n_valid_examples = len(train_data) - n_train_examples"
   ]
  },
  {
   "cell_type": "markdown",
   "metadata": {
    "id": "Be4vqf484O9A"
   },
   "source": [
    "Then, we use the `random_split` function to take a random 10% of the training set to use as a validation set. The remaining 90% will stay as the training set."
   ]
  },
  {
   "cell_type": "code",
   "execution_count": 10,
   "metadata": {
    "id": "6yVJvPZ-RVvI"
   },
   "outputs": [],
   "source": [
    "train_data, valid_data = data.random_split(train_data,\n",
    "                                           [n_train_examples, n_valid_examples])\n",
    "\n",
    "TEST_RATIO = 0.95\n",
    "n_valid_examples = int(len(valid_data) * VALID_RATIO)\n",
    "n_test_examples = len(valid_data) - n_valid_examples\n",
    "valid_data, test_data = data.random_split(valid_data,\n",
    "                                           [n_valid_examples, n_test_examples])"
   ]
  },
  {
   "cell_type": "markdown",
   "metadata": {
    "id": "p8DYs4UE4O9E"
   },
   "source": [
    "We can print out the number of examples again to check our splits are correct."
   ]
  },
  {
   "cell_type": "code",
   "execution_count": 11,
   "metadata": {
    "colab": {
     "base_uri": "https://localhost:8080/",
     "height": 71
    },
    "id": "tBhHj9uaREvi",
    "outputId": "4f5089ea-f796-43be-a9a6-250bcdd009f7"
   },
   "outputs": [
    {
     "name": "stdout",
     "output_type": "stream",
     "text": [
      "Number of training examples: 1625136\n",
      "Number of validation examples: 81257\n",
      "Number of testing examples: 4277\n"
     ]
    }
   ],
   "source": [
    "print(f'Number of training examples: {len(train_data)}')\n",
    "print(f'Number of validation examples: {len(valid_data)}')\n",
    "print(f'Number of testing examples: {len(test_data)}')"
   ]
  },
  {
   "cell_type": "markdown",
   "metadata": {
    "id": "C7vOeo1a4O9W"
   },
   "source": [
    "Next, we'll define a `DataLoader` for each of the training/validation/test sets. We can iterate over these, and they will yield batches of images and labels which we can use to train our model.\n",
    "\n",
    "We only need to shuffle our training set as it will be used for stochastic gradient descent, and we want each batch to be different between epochs. As we aren't using the validation or test sets to update our model parameters, they do not need to be shuffled.\n",
    "\n",
    "Ideally, we want to use the biggest batch size that we can. The 64 here is relatively small and can be increased if our hardware can handle it.\n",
    "\n",
    "# BATCH SIZE"
   ]
  },
  {
   "cell_type": "code",
   "execution_count": 12,
   "metadata": {
    "id": "sGdKSORpREvr"
   },
   "outputs": [],
   "source": [
    "BATCH_SIZE = 1000\n",
    "\n",
    "train_iterator = data.DataLoader(train_data,\n",
    "                                 shuffle=True,\n",
    "                                 batch_size=BATCH_SIZE)\n",
    "\n",
    "valid_iterator = data.DataLoader(valid_data,\n",
    "                                 batch_size=BATCH_SIZE)\n",
    "\n",
    "test_iterator = data.DataLoader(test_data,\n",
    "                                batch_size=BATCH_SIZE)"
   ]
  },
  {
   "cell_type": "code",
   "execution_count": 13,
   "metadata": {},
   "outputs": [
    {
     "name": "stdout",
     "output_type": "stream",
     "text": [
      "tensor([[ 0.0000,  0.0000, -0.2026,  0.0000, -0.0615],\n",
      "        [-0.9405,  0.4279,  0.0970,  0.0000,  0.0501],\n",
      "        [ 0.0000,  0.0000, -0.1676,  0.0000, -0.0358],\n",
      "        ...,\n",
      "        [-0.5037, -1.0143, -0.2026,  0.0000, -0.0040],\n",
      "        [-1.6893,  0.3163,  0.0433,  0.0000,  0.0247],\n",
      "        [ 0.0000,  0.0000,  0.1278,  0.1824, -0.0188]])\n",
      "tensor([[-3.6718e-01],\n",
      "        [-3.4527e-01],\n",
      "        [-1.2622e-01],\n",
      "        [ 2.6809e-01],\n",
      "        [-1.0463e+00],\n",
      "        [-2.1384e-01],\n",
      "        [-6.0814e-01],\n",
      "        [ 2.1739e+00],\n",
      "        [-3.0146e-01],\n",
      "        [-4.5480e-01],\n",
      "        [ 1.4729e+00],\n",
      "        [ 5.2187e-03],\n",
      "        [-4.3290e-01],\n",
      "        [ 7.9383e-01],\n",
      "        [ 2.7125e-02],\n",
      "        [ 8.3764e-01],\n",
      "        [-3.0146e-01],\n",
      "        [ 3.9952e-01],\n",
      "        [-2.7956e-01],\n",
      "        [-3.6718e-01],\n",
      "        [-1.0431e-01],\n",
      "        [ 6.1858e-01],\n",
      "        [-3.2337e-01],\n",
      "        [ 2.0237e-01],\n",
      "        [ 5.3096e-01],\n",
      "        [ 7.0936e-02],\n",
      "        [ 1.3665e-01],\n",
      "        [-1.2622e-01],\n",
      "        [-4.3290e-01],\n",
      "        [-1.0463e+00],\n",
      "        [-3.8909e-01],\n",
      "        [-3.2337e-01],\n",
      "        [-1.0431e-01],\n",
      "        [ 1.7358e+00],\n",
      "        [ 9.9098e-01],\n",
      "        [ 1.8046e-01],\n",
      "        [ 5.2187e-03],\n",
      "        [-1.2622e-01],\n",
      "        [-3.4527e-01],\n",
      "        [-2.3574e-01],\n",
      "        [-4.7671e-01],\n",
      "        [-1.6687e-02],\n",
      "        [-4.7671e-01],\n",
      "        [-1.7003e-01],\n",
      "        [-1.0431e-01],\n",
      "        [ 1.5856e-01],\n",
      "        [-2.5765e-01],\n",
      "        [-3.2337e-01],\n",
      "        [-4.9861e-01],\n",
      "        [-3.4527e-01],\n",
      "        [-1.6687e-02],\n",
      "        [ 1.3415e+00],\n",
      "        [ 6.1858e-01],\n",
      "        [-1.6687e-02],\n",
      "        [ 1.4704e+01],\n",
      "        [-9.1482e-01],\n",
      "        [ 9.4717e-01],\n",
      "        [-6.5195e-01],\n",
      "        [-2.3574e-01],\n",
      "        [ 2.6809e-01],\n",
      "        [-7.6148e-01],\n",
      "        [ 6.4049e-01],\n",
      "        [-7.6148e-01],\n",
      "        [ 3.7762e-01],\n",
      "        [ 4.2143e-01],\n",
      "        [-5.6433e-01],\n",
      "        [ 4.4333e-01],\n",
      "        [ 3.5571e-01],\n",
      "        [-1.2622e-01],\n",
      "        [-5.6433e-01],\n",
      "        [ 1.1475e-01],\n",
      "        [-5.2052e-01],\n",
      "        [ 1.5856e-01],\n",
      "        [ 4.9030e-02],\n",
      "        [-1.9193e-01],\n",
      "        [-3.0146e-01],\n",
      "        [-1.0463e+00],\n",
      "        [ 5.9667e-01],\n",
      "        [ 5.2187e-03],\n",
      "        [-6.5195e-01],\n",
      "        [ 5.0905e-01],\n",
      "        [-4.9861e-01],\n",
      "        [-4.5480e-01],\n",
      "        [-6.0499e-02],\n",
      "        [-6.0814e-01],\n",
      "        [-7.1767e-01],\n",
      "        [-1.4812e-01],\n",
      "        [ 9.2842e-02],\n",
      "        [ 2.7125e-02],\n",
      "        [-2.1384e-01],\n",
      "        [ 2.8999e-01],\n",
      "        [-3.8593e-02],\n",
      "        [-3.8909e-01],\n",
      "        [-1.9193e-01],\n",
      "        [-8.0529e-01],\n",
      "        [-1.0431e-01],\n",
      "        [-6.5195e-01],\n",
      "        [ 1.0786e+00],\n",
      "        [ 2.0237e-01],\n",
      "        [-3.8909e-01],\n",
      "        [-1.0463e+00],\n",
      "        [ 7.7192e-01],\n",
      "        [ 4.4333e-01],\n",
      "        [ 5.0905e-01],\n",
      "        [ 9.6907e-01],\n",
      "        [ 1.5856e-01],\n",
      "        [-4.5480e-01],\n",
      "        [ 5.3096e-01],\n",
      "        [ 4.6524e-01],\n",
      "        [ 1.5856e-01],\n",
      "        [-6.0499e-02],\n",
      "        [ 7.0936e-02],\n",
      "        [ 3.9952e-01],\n",
      "        [-5.4243e-01],\n",
      "        [-6.7386e-01],\n",
      "        [-4.9861e-01],\n",
      "        [-3.6718e-01],\n",
      "        [-8.2720e-01],\n",
      "        [-1.0463e+00],\n",
      "        [-3.4527e-01],\n",
      "        [-4.3290e-01],\n",
      "        [-7.3958e-01],\n",
      "        [ 2.2428e-01],\n",
      "        [-3.4527e-01],\n",
      "        [-5.2052e-01],\n",
      "        [ 4.2143e-01],\n",
      "        [-3.4527e-01],\n",
      "        [-5.6433e-01],\n",
      "        [-2.3574e-01],\n",
      "        [ 1.3543e+01],\n",
      "        [-2.7956e-01],\n",
      "        [-1.0463e+00],\n",
      "        [-8.0529e-01],\n",
      "        [-6.0814e-01],\n",
      "        [-5.4243e-01],\n",
      "        [-2.7956e-01],\n",
      "        [ 2.2428e-01],\n",
      "        [-5.2052e-01],\n",
      "        [-8.2720e-01],\n",
      "        [-5.8624e-01],\n",
      "        [-6.7386e-01],\n",
      "        [-2.1384e-01],\n",
      "        [ 2.8999e-01],\n",
      "        [-1.0463e+00],\n",
      "        [-1.2622e-01],\n",
      "        [-2.5765e-01],\n",
      "        [-2.7956e-01],\n",
      "        [ 2.4618e-01],\n",
      "        [-6.0814e-01],\n",
      "        [ 5.0905e-01],\n",
      "        [-4.5480e-01],\n",
      "        [-6.5195e-01],\n",
      "        [-6.0499e-02],\n",
      "        [ 7.2811e-01],\n",
      "        [-5.8624e-01],\n",
      "        [ 1.9767e+00],\n",
      "        [-7.6148e-01],\n",
      "        [-1.9193e-01],\n",
      "        [-4.9861e-01],\n",
      "        [-9.1482e-01],\n",
      "        [ 4.2143e-01],\n",
      "        [-3.2337e-01],\n",
      "        [ 4.4333e-01],\n",
      "        [-3.8593e-02],\n",
      "        [-2.1384e-01],\n",
      "        [ 9.2842e-02],\n",
      "        [-8.2404e-02],\n",
      "        [ 2.4618e-01],\n",
      "        [-2.5765e-01],\n",
      "        [ 1.8046e-01],\n",
      "        [ 2.6809e-01],\n",
      "        [ 4.9030e-02],\n",
      "        [-1.6687e-02],\n",
      "        [ 2.1520e+00],\n",
      "        [-5.2052e-01],\n",
      "        [ 3.9952e-01],\n",
      "        [ 1.1475e-01],\n",
      "        [-2.1384e-01],\n",
      "        [ 2.0237e-01],\n",
      "        [-6.7386e-01],\n",
      "        [-3.0146e-01],\n",
      "        [-5.2052e-01],\n",
      "        [-3.8909e-01],\n",
      "        [-1.7003e-01],\n",
      "        [ 3.1190e-01],\n",
      "        [ 1.5856e-01],\n",
      "        [-5.6433e-01],\n",
      "        [-8.2404e-02],\n",
      "        [ 1.1881e+00],\n",
      "        [ 1.0567e+00],\n",
      "        [-3.8593e-02],\n",
      "        [ 6.4049e-01],\n",
      "        [-3.8909e-01],\n",
      "        [-7.3958e-01],\n",
      "        [ 1.3665e-01],\n",
      "        [ 6.8430e-01],\n",
      "        [ 9.2842e-02],\n",
      "        [-3.8909e-01],\n",
      "        [-1.7003e-01],\n",
      "        [-3.8593e-02],\n",
      "        [ 2.7125e-02],\n",
      "        [ 7.0620e-01],\n",
      "        [ 1.5386e+00],\n",
      "        [-2.1384e-01],\n",
      "        [-9.1482e-01],\n",
      "        [-2.7956e-01],\n",
      "        [ 5.6131e+00],\n",
      "        [ 5.2187e-03],\n",
      "        [ 2.6809e-01],\n",
      "        [-3.0146e-01],\n",
      "        [-3.8909e-01],\n",
      "        [-4.9861e-01],\n",
      "        [-9.5864e-01],\n",
      "        [-3.8593e-02],\n",
      "        [ 7.0936e-02],\n",
      "        [ 3.9952e-01],\n",
      "        [-1.0463e+00],\n",
      "        [ 2.0237e-01],\n",
      "        [-3.8593e-02],\n",
      "        [-4.1099e-01],\n",
      "        [-1.4812e-01],\n",
      "        [-4.1099e-01],\n",
      "        [-3.8909e-01],\n",
      "        [ 4.9030e-02],\n",
      "        [ 3.5571e-01],\n",
      "        [ 1.8046e-01],\n",
      "        [ 2.2834e+00],\n",
      "        [-3.8593e-02],\n",
      "        [ 1.5856e-01],\n",
      "        [ 2.4587e+00],\n",
      "        [-3.4527e-01],\n",
      "        [ 2.0237e-01],\n",
      "        [ 5.7477e-01],\n",
      "        [ 2.6809e-01],\n",
      "        [ 9.2842e-02],\n",
      "        [-7.1767e-01],\n",
      "        [-3.6718e-01],\n",
      "        [-1.9193e-01],\n",
      "        [ 6.8430e-01],\n",
      "        [-6.0814e-01],\n",
      "        [ 2.6809e-01],\n",
      "        [-1.7003e-01],\n",
      "        [-1.0431e-01],\n",
      "        [-7.3958e-01],\n",
      "        [ 1.1475e-01],\n",
      "        [ 9.0336e-01],\n",
      "        [-3.6718e-01],\n",
      "        [ 3.5571e-01],\n",
      "        [-2.7956e-01],\n",
      "        [-8.2404e-02],\n",
      "        [-3.0146e-01],\n",
      "        [-6.0499e-02],\n",
      "        [-8.2404e-02],\n",
      "        [ 7.0936e-02],\n",
      "        [-1.0431e-01],\n",
      "        [-4.9861e-01],\n",
      "        [ 1.7796e+00],\n",
      "        [ 6.6239e-01],\n",
      "        [-3.6718e-01],\n",
      "        [-4.7671e-01],\n",
      "        [-1.0431e-01],\n",
      "        [-8.2720e-01],\n",
      "        [-1.9193e-01],\n",
      "        [-3.8909e-01],\n",
      "        [-1.0463e+00],\n",
      "        [ 2.7125e-02],\n",
      "        [ 5.2187e-03],\n",
      "        [-1.0463e+00],\n",
      "        [-4.7671e-01],\n",
      "        [-3.6718e-01],\n",
      "        [ 5.9667e-01],\n",
      "        [-3.2337e-01],\n",
      "        [-5.4243e-01],\n",
      "        [ 1.1881e+00],\n",
      "        [-6.5195e-01],\n",
      "        [-4.5480e-01],\n",
      "        [-1.7003e-01],\n",
      "        [ 8.5954e-01],\n",
      "        [-6.0499e-02],\n",
      "        [ 9.9098e-01],\n",
      "        [-5.8624e-01],\n",
      "        [-5.2052e-01],\n",
      "        [-6.3005e-01],\n",
      "        [ 6.4049e-01],\n",
      "        [ 1.8046e-01],\n",
      "        [ 2.2428e-01],\n",
      "        [ 2.4618e-01],\n",
      "        [ 4.6524e-01],\n",
      "        [-1.0431e-01],\n",
      "        [-4.9861e-01],\n",
      "        [-3.6718e-01],\n",
      "        [ 5.9667e-01],\n",
      "        [-5.2052e-01],\n",
      "        [-3.4527e-01],\n",
      "        [-4.7671e-01],\n",
      "        [ 3.3381e-01],\n",
      "        [ 1.8046e-01],\n",
      "        [ 1.0129e+00],\n",
      "        [ 2.7125e-02],\n",
      "        [ 3.9952e-01],\n",
      "        [-6.0814e-01],\n",
      "        [-5.2052e-01],\n",
      "        [ 7.0620e-01],\n",
      "        [ 5.2187e-03],\n",
      "        [-5.2052e-01],\n",
      "        [ 1.4510e+00],\n",
      "        [-8.2404e-02],\n",
      "        [ 1.7139e+00],\n",
      "        [-1.0463e+00],\n",
      "        [-2.1384e-01],\n",
      "        [-2.5765e-01],\n",
      "        [ 2.6809e-01],\n",
      "        [-7.1767e-01],\n",
      "        [ 4.2143e-01],\n",
      "        [ 1.3665e-01],\n",
      "        [-1.7003e-01],\n",
      "        [ 7.9383e-01],\n",
      "        [ 2.6809e-01],\n",
      "        [ 1.4291e+00],\n",
      "        [-1.7003e-01],\n",
      "        [-4.3290e-01],\n",
      "        [-6.7386e-01],\n",
      "        [-1.2622e-01],\n",
      "        [-3.0146e-01],\n",
      "        [-6.7386e-01],\n",
      "        [ 2.6809e-01],\n",
      "        [-1.9193e-01],\n",
      "        [-8.2404e-02],\n",
      "        [-5.2052e-01],\n",
      "        [-2.1384e-01],\n",
      "        [-4.5480e-01],\n",
      "        [-2.1384e-01],\n",
      "        [-5.8624e-01],\n",
      "        [-7.3958e-01],\n",
      "        [-1.4812e-01],\n",
      "        [-1.0244e+00],\n",
      "        [-2.1384e-01],\n",
      "        [-6.3005e-01],\n",
      "        [ 2.7125e-02],\n",
      "        [-6.5195e-01],\n",
      "        [-6.0814e-01],\n",
      "        [ 6.8430e-01],\n",
      "        [-9.3673e-01],\n",
      "        [-7.6148e-01],\n",
      "        [ 3.5571e-01],\n",
      "        [ 3.3381e-01],\n",
      "        [-2.5765e-01],\n",
      "        [-3.8909e-01],\n",
      "        [-8.2404e-02],\n",
      "        [ 2.0237e-01],\n",
      "        [-2.1384e-01],\n",
      "        [-1.9193e-01],\n",
      "        [-1.4812e-01],\n",
      "        [ 2.6809e-01],\n",
      "        [-3.6718e-01],\n",
      "        [-4.9861e-01],\n",
      "        [ 2.4618e-01],\n",
      "        [ 5.5286e-01],\n",
      "        [-2.7956e-01],\n",
      "        [-7.6148e-01],\n",
      "        [-1.7003e-01],\n",
      "        [ 2.5025e+00],\n",
      "        [ 1.1443e+00],\n",
      "        [-2.7956e-01],\n",
      "        [ 5.2187e-03],\n",
      "        [-1.4812e-01],\n",
      "        [ 1.4072e+00],\n",
      "        [-1.6687e-02],\n",
      "        [-4.7671e-01],\n",
      "        [-6.0814e-01],\n",
      "        [-6.0814e-01],\n",
      "        [-1.9193e-01],\n",
      "        [-1.0244e+00],\n",
      "        [ 1.1475e-01],\n",
      "        [-1.0463e+00],\n",
      "        [-8.4911e-01],\n",
      "        [ 5.0905e-01],\n",
      "        [-5.2052e-01],\n",
      "        [-1.0463e+00],\n",
      "        [-1.7003e-01],\n",
      "        [-2.1384e-01],\n",
      "        [-3.8909e-01],\n",
      "        [-5.4243e-01],\n",
      "        [-6.9577e-01],\n",
      "        [-4.5480e-01],\n",
      "        [-6.0814e-01],\n",
      "        [ 4.2143e-01],\n",
      "        [-6.5195e-01],\n",
      "        [-1.4812e-01],\n",
      "        [-4.7671e-01],\n",
      "        [ 1.3665e-01],\n",
      "        [-1.2622e-01],\n",
      "        [-4.5480e-01],\n",
      "        [-6.3005e-01],\n",
      "        [-1.4812e-01],\n",
      "        [-5.2052e-01],\n",
      "        [ 2.1082e+00],\n",
      "        [ 5.0905e-01],\n",
      "        [ 3.3381e-01],\n",
      "        [-3.6718e-01],\n",
      "        [-3.4527e-01],\n",
      "        [-4.3290e-01],\n",
      "        [-7.3958e-01],\n",
      "        [-4.9861e-01],\n",
      "        [-3.8909e-01],\n",
      "        [-8.2404e-02],\n",
      "        [ 1.5856e-01],\n",
      "        [-2.7956e-01],\n",
      "        [ 1.4510e+00],\n",
      "        [ 2.6809e-01],\n",
      "        [-8.2404e-02],\n",
      "        [-1.7003e-01],\n",
      "        [ 1.1475e-01],\n",
      "        [-3.6718e-01],\n",
      "        [-6.5195e-01],\n",
      "        [ 1.3665e-01],\n",
      "        [-6.0814e-01],\n",
      "        [-6.9577e-01],\n",
      "        [ 3.3381e-01],\n",
      "        [-8.0529e-01],\n",
      "        [ 9.2842e-02],\n",
      "        [-2.1384e-01],\n",
      "        [-6.0499e-02],\n",
      "        [-2.1384e-01],\n",
      "        [-3.0146e-01],\n",
      "        [-2.5765e-01],\n",
      "        [ 1.8046e-01],\n",
      "        [-4.1099e-01],\n",
      "        [ 3.7762e-01],\n",
      "        [ 3.9952e-01],\n",
      "        [-8.2720e-01],\n",
      "        [-4.9861e-01],\n",
      "        [-4.1099e-01],\n",
      "        [-4.1099e-01],\n",
      "        [-6.5195e-01],\n",
      "        [ 1.3665e-01],\n",
      "        [-3.2337e-01],\n",
      "        [ 5.0905e-01],\n",
      "        [ 3.1190e-01],\n",
      "        [ 9.2842e-02],\n",
      "        [-2.7956e-01],\n",
      "        [-1.0463e+00],\n",
      "        [ 3.5571e-01],\n",
      "        [-6.3005e-01],\n",
      "        [-5.6433e-01],\n",
      "        [-1.9193e-01],\n",
      "        [ 2.7125e-02],\n",
      "        [ 5.3096e-01],\n",
      "        [ 6.6646e+00],\n",
      "        [-6.0499e-02],\n",
      "        [ 5.2187e-03],\n",
      "        [ 1.1005e+00],\n",
      "        [-4.3290e-01],\n",
      "        [-2.7956e-01],\n",
      "        [ 2.7125e-02],\n",
      "        [-8.2404e-02],\n",
      "        [-6.0814e-01],\n",
      "        [ 4.7588e+00],\n",
      "        [ 2.2428e-01],\n",
      "        [-4.3290e-01],\n",
      "        [-3.4527e-01],\n",
      "        [-1.0431e-01],\n",
      "        [ 3.7762e-01],\n",
      "        [-6.0814e-01],\n",
      "        [ 5.0905e-01],\n",
      "        [ 4.4333e-01],\n",
      "        [-9.3673e-01],\n",
      "        [-4.5480e-01],\n",
      "        [ 8.5954e-01],\n",
      "        [-4.5480e-01],\n",
      "        [-7.6148e-01],\n",
      "        [ 4.2143e-01],\n",
      "        [ 7.5001e-01],\n",
      "        [-1.9193e-01],\n",
      "        [ 2.4618e-01],\n",
      "        [-6.9577e-01],\n",
      "        [-5.8624e-01],\n",
      "        [-7.6148e-01],\n",
      "        [-3.0146e-01],\n",
      "        [ 2.2428e-01],\n",
      "        [-4.3290e-01],\n",
      "        [ 7.0936e-02],\n",
      "        [ 9.9098e-01],\n",
      "        [-5.8624e-01],\n",
      "        [-1.9193e-01],\n",
      "        [ 2.7125e-02],\n",
      "        [-8.2404e-02],\n",
      "        [ 7.2811e-01],\n",
      "        [-8.2404e-02],\n",
      "        [ 7.7192e-01],\n",
      "        [-1.6687e-02],\n",
      "        [ 7.0620e-01],\n",
      "        [-4.9861e-01],\n",
      "        [-1.6687e-02],\n",
      "        [-1.7003e-01],\n",
      "        [ 4.2143e-01],\n",
      "        [-6.0499e-02],\n",
      "        [-3.6718e-01],\n",
      "        [ 2.8999e-01],\n",
      "        [-1.2622e-01],\n",
      "        [-3.8909e-01],\n",
      "        [ 9.2842e-02],\n",
      "        [ 2.6809e-01],\n",
      "        [ 3.7762e-01],\n",
      "        [ 2.6809e-01],\n",
      "        [ 1.8453e+00],\n",
      "        [-3.2337e-01],\n",
      "        [-6.0499e-02],\n",
      "        [-6.9577e-01],\n",
      "        [-1.7003e-01],\n",
      "        [ 5.3096e-01],\n",
      "        [-8.2404e-02],\n",
      "        [-4.9861e-01],\n",
      "        [-3.4527e-01],\n",
      "        [ 5.5286e-01],\n",
      "        [-1.0463e+00],\n",
      "        [ 1.4510e+00],\n",
      "        [ 2.7125e-02],\n",
      "        [-1.6687e-02],\n",
      "        [-1.6687e-02],\n",
      "        [-4.9861e-01],\n",
      "        [-4.7671e-01],\n",
      "        [-4.3290e-01],\n",
      "        [ 3.3381e-01],\n",
      "        [-2.1384e-01],\n",
      "        [ 1.8046e-01],\n",
      "        [ 7.7192e-01],\n",
      "        [-4.7671e-01],\n",
      "        [ 3.1190e-01],\n",
      "        [-4.3290e-01],\n",
      "        [ 3.9952e-01],\n",
      "        [ 5.7477e-01],\n",
      "        [-3.4527e-01],\n",
      "        [-7.3958e-01],\n",
      "        [ 1.6043e+00],\n",
      "        [-4.9861e-01],\n",
      "        [-2.3574e-01],\n",
      "        [ 1.1881e+00],\n",
      "        [-5.2052e-01],\n",
      "        [ 1.5856e-01],\n",
      "        [-1.2622e-01],\n",
      "        [-2.1384e-01],\n",
      "        [ 5.2187e-03],\n",
      "        [-1.9193e-01],\n",
      "        [ 1.0348e+00],\n",
      "        [-4.3290e-01],\n",
      "        [-7.3958e-01],\n",
      "        [-2.1384e-01],\n",
      "        [-6.0814e-01],\n",
      "        [-4.3290e-01],\n",
      "        [-2.7956e-01],\n",
      "        [-3.2337e-01],\n",
      "        [ 2.2428e-01],\n",
      "        [-3.6718e-01],\n",
      "        [ 9.0336e-01],\n",
      "        [-4.1099e-01],\n",
      "        [-3.6718e-01],\n",
      "        [-1.0463e+00],\n",
      "        [ 7.5001e-01],\n",
      "        [-3.4527e-01],\n",
      "        [ 2.1958e+00],\n",
      "        [-1.7003e-01],\n",
      "        [-3.2337e-01],\n",
      "        [ 5.7477e-01],\n",
      "        [ 7.0936e-02],\n",
      "        [-4.1099e-01],\n",
      "        [ 1.1224e+00],\n",
      "        [ 4.2143e-01],\n",
      "        [ 3.5571e-01],\n",
      "        [ 6.1858e-01],\n",
      "        [-1.7003e-01],\n",
      "        [ 5.7477e-01],\n",
      "        [ 1.1881e+00],\n",
      "        [-2.3574e-01],\n",
      "        [-2.1384e-01],\n",
      "        [-1.0244e+00],\n",
      "        [ 1.1475e-01],\n",
      "        [-2.7956e-01],\n",
      "        [ 4.2143e-01],\n",
      "        [-4.7671e-01],\n",
      "        [-6.0499e-02],\n",
      "        [-1.0431e-01],\n",
      "        [-3.0146e-01],\n",
      "        [-7.8339e-01],\n",
      "        [ 1.3665e-01],\n",
      "        [-3.4527e-01],\n",
      "        [-3.6718e-01],\n",
      "        [-3.2337e-01],\n",
      "        [-4.5480e-01],\n",
      "        [ 1.3665e-01],\n",
      "        [ 5.3096e-01],\n",
      "        [ 7.0936e-02],\n",
      "        [-4.9861e-01],\n",
      "        [-3.4527e-01],\n",
      "        [-1.7003e-01],\n",
      "        [-1.7003e-01],\n",
      "        [-5.6433e-01],\n",
      "        [ 5.2187e-03],\n",
      "        [-1.0463e+00],\n",
      "        [ 1.8046e-01],\n",
      "        [-6.0499e-02],\n",
      "        [-6.0814e-01],\n",
      "        [ 2.0237e-01],\n",
      "        [-6.9577e-01],\n",
      "        [ 5.9667e-01],\n",
      "        [-6.9577e-01],\n",
      "        [-5.6433e-01],\n",
      "        [-4.5480e-01],\n",
      "        [ 1.5856e-01],\n",
      "        [-8.2404e-02],\n",
      "        [ 2.6809e-01],\n",
      "        [-5.2052e-01],\n",
      "        [-1.7003e-01],\n",
      "        [-5.4243e-01],\n",
      "        [-5.2052e-01],\n",
      "        [-8.2720e-01],\n",
      "        [-1.6687e-02],\n",
      "        [ 5.9667e-01],\n",
      "        [ 4.9030e-02],\n",
      "        [-4.5480e-01],\n",
      "        [-3.8909e-01],\n",
      "        [-6.5195e-01],\n",
      "        [-4.1099e-01],\n",
      "        [-3.4527e-01],\n",
      "        [ 4.6524e-01],\n",
      "        [ 2.0644e+00],\n",
      "        [ 4.4333e-01],\n",
      "        [-1.0463e+00],\n",
      "        [ 1.1475e-01],\n",
      "        [-4.7671e-01],\n",
      "        [ 5.7477e-01],\n",
      "        [-5.4243e-01],\n",
      "        [-2.1384e-01],\n",
      "        [-6.3005e-01],\n",
      "        [-6.9577e-01],\n",
      "        [ 7.2811e-01],\n",
      "        [ 3.1190e-01],\n",
      "        [ 1.5856e-01],\n",
      "        [-1.6687e-02],\n",
      "        [ 1.9767e+00],\n",
      "        [ 1.3634e+00],\n",
      "        [ 2.7125e-02],\n",
      "        [-2.3574e-01],\n",
      "        [-1.0431e-01],\n",
      "        [ 2.7125e-02],\n",
      "        [ 3.5571e-01],\n",
      "        [-1.6687e-02],\n",
      "        [ 1.8046e-01],\n",
      "        [-1.7003e-01],\n",
      "        [ 3.9483e+00],\n",
      "        [-5.8624e-01],\n",
      "        [-4.3290e-01],\n",
      "        [ 9.2842e-02],\n",
      "        [-3.0146e-01],\n",
      "        [ 3.3381e-01],\n",
      "        [-3.8593e-02],\n",
      "        [-1.2622e-01],\n",
      "        [ 7.9383e-01],\n",
      "        [ 5.2187e-03],\n",
      "        [ 9.2842e-02],\n",
      "        [-1.0431e-01],\n",
      "        [-6.3005e-01],\n",
      "        [-8.7101e-01],\n",
      "        [ 3.9952e-01],\n",
      "        [-3.6718e-01],\n",
      "        [-8.2404e-02],\n",
      "        [-1.9193e-01],\n",
      "        [-6.7386e-01],\n",
      "        [-7.6148e-01],\n",
      "        [ 1.8234e+00],\n",
      "        [-3.4527e-01],\n",
      "        [-3.6718e-01],\n",
      "        [-2.5765e-01],\n",
      "        [-4.5480e-01],\n",
      "        [ 3.5571e-01],\n",
      "        [ 7.9570e+00],\n",
      "        [-2.3574e-01],\n",
      "        [ 3.6416e+00],\n",
      "        [-4.7671e-01],\n",
      "        [-6.7386e-01],\n",
      "        [-1.0244e+00],\n",
      "        [-5.2052e-01],\n",
      "        [ 1.8015e+00],\n",
      "        [-7.1767e-01],\n",
      "        [ 2.6809e-01],\n",
      "        [-4.5480e-01],\n",
      "        [-3.8593e-02],\n",
      "        [-7.6148e-01],\n",
      "        [ 1.5856e-01],\n",
      "        [-7.1767e-01],\n",
      "        [-4.3290e-01],\n",
      "        [-6.0814e-01],\n",
      "        [-3.6718e-01],\n",
      "        [ 5.5286e-01],\n",
      "        [ 4.9030e-02],\n",
      "        [ 2.7125e-02],\n",
      "        [ 3.1190e-01],\n",
      "        [-4.7671e-01],\n",
      "        [-6.7386e-01],\n",
      "        [-1.0431e-01],\n",
      "        [ 9.2526e-01],\n",
      "        [ 6.6239e-01],\n",
      "        [ 3.3381e-01],\n",
      "        [-6.0499e-02],\n",
      "        [ 4.6524e-01],\n",
      "        [-4.3290e-01],\n",
      "        [-6.0499e-02],\n",
      "        [ 5.9667e-01],\n",
      "        [-4.3290e-01],\n",
      "        [-5.4243e-01],\n",
      "        [ 4.2143e-01],\n",
      "        [-3.8909e-01],\n",
      "        [-4.3290e-01],\n",
      "        [ 1.8453e+00],\n",
      "        [-4.7671e-01],\n",
      "        [-3.0146e-01],\n",
      "        [-3.0146e-01],\n",
      "        [ 3.3381e-01],\n",
      "        [ 1.8046e-01],\n",
      "        [-5.2052e-01],\n",
      "        [-2.5765e-01],\n",
      "        [-8.2404e-02],\n",
      "        [ 2.7125e-02],\n",
      "        [-6.0814e-01],\n",
      "        [-3.8909e-01],\n",
      "        [-1.0244e+00],\n",
      "        [-1.2622e-01],\n",
      "        [ 1.2758e+00],\n",
      "        [-8.2404e-02],\n",
      "        [ 1.5386e+00],\n",
      "        [-2.3574e-01],\n",
      "        [-3.8909e-01],\n",
      "        [-4.9861e-01],\n",
      "        [-6.3005e-01],\n",
      "        [ 3.9952e-01],\n",
      "        [-3.8909e-01],\n",
      "        [ 1.1224e+00],\n",
      "        [-3.0146e-01],\n",
      "        [-3.0146e-01],\n",
      "        [ 7.0936e-02],\n",
      "        [ 3.1190e-01],\n",
      "        [-4.3290e-01],\n",
      "        [-2.3574e-01],\n",
      "        [-8.2404e-02],\n",
      "        [ 3.3381e-01],\n",
      "        [ 3.7762e-01],\n",
      "        [ 4.8715e-01],\n",
      "        [ 7.7192e-01],\n",
      "        [ 4.9030e-02],\n",
      "        [ 7.7192e-01],\n",
      "        [-2.3574e-01],\n",
      "        [ 2.8999e-01],\n",
      "        [-3.8909e-01],\n",
      "        [ 5.5286e-01],\n",
      "        [ 3.7762e-01],\n",
      "        [ 4.9030e-02],\n",
      "        [ 2.7125e-02],\n",
      "        [-1.0244e+00],\n",
      "        [-3.6718e-01],\n",
      "        [-8.2404e-02],\n",
      "        [ 2.2428e-01],\n",
      "        [-6.9577e-01],\n",
      "        [-1.7003e-01],\n",
      "        [ 2.0237e-01],\n",
      "        [-3.4527e-01],\n",
      "        [-5.2052e-01],\n",
      "        [-3.4527e-01],\n",
      "        [-1.0431e-01],\n",
      "        [ 2.4618e-01],\n",
      "        [ 1.9986e+00],\n",
      "        [-7.6148e-01],\n",
      "        [ 5.3096e-01],\n",
      "        [ 1.1443e+00],\n",
      "        [ 5.2187e-03],\n",
      "        [ 1.5824e+00],\n",
      "        [ 9.4717e-01],\n",
      "        [ 1.3415e+00],\n",
      "        [ 4.9030e-02],\n",
      "        [-5.2052e-01],\n",
      "        [ 3.3381e-01],\n",
      "        [ 2.2834e+00],\n",
      "        [-3.4527e-01],\n",
      "        [-6.0814e-01],\n",
      "        [-7.1767e-01],\n",
      "        [-4.3290e-01],\n",
      "        [-4.9861e-01],\n",
      "        [ 9.2842e-02],\n",
      "        [-5.6433e-01],\n",
      "        [-1.9193e-01],\n",
      "        [ 2.0237e-01],\n",
      "        [ 1.1475e-01],\n",
      "        [ 1.1475e-01],\n",
      "        [-6.7386e-01],\n",
      "        [-1.0431e-01],\n",
      "        [-6.9577e-01],\n",
      "        [-5.6433e-01],\n",
      "        [-1.6687e-02],\n",
      "        [-3.0146e-01],\n",
      "        [ 2.2428e-01],\n",
      "        [-6.7386e-01],\n",
      "        [-3.2337e-01],\n",
      "        [ 2.0237e-01],\n",
      "        [-5.2052e-01],\n",
      "        [-7.6148e-01],\n",
      "        [-2.5765e-01],\n",
      "        [ 4.4333e-01],\n",
      "        [-6.9577e-01],\n",
      "        [-5.4243e-01],\n",
      "        [-6.7386e-01],\n",
      "        [-5.2052e-01],\n",
      "        [-4.5480e-01],\n",
      "        [-1.0431e-01],\n",
      "        [ 4.2143e-01],\n",
      "        [ 5.0905e-01],\n",
      "        [ 3.9952e-01],\n",
      "        [-4.7671e-01],\n",
      "        [-4.1099e-01],\n",
      "        [ 5.2187e-03],\n",
      "        [-7.6148e-01],\n",
      "        [-6.0499e-02],\n",
      "        [-4.9861e-01],\n",
      "        [-1.0431e-01],\n",
      "        [-2.3574e-01],\n",
      "        [ 5.3096e-01],\n",
      "        [ 1.2758e+00],\n",
      "        [-4.5480e-01],\n",
      "        [ 1.8046e-01],\n",
      "        [-4.1099e-01],\n",
      "        [-2.1384e-01],\n",
      "        [-4.7671e-01],\n",
      "        [ 6.8430e-01],\n",
      "        [-7.3958e-01],\n",
      "        [-1.0463e+00],\n",
      "        [ 1.1475e-01],\n",
      "        [-5.4243e-01],\n",
      "        [ 3.1190e-01],\n",
      "        [ 4.9030e-02],\n",
      "        [-3.4527e-01],\n",
      "        [-2.3574e-01],\n",
      "        [-2.5765e-01],\n",
      "        [ 2.5901e+00],\n",
      "        [ 2.2428e-01],\n",
      "        [-3.6718e-01],\n",
      "        [ 4.4333e-01],\n",
      "        [ 9.2526e-01],\n",
      "        [-4.5480e-01],\n",
      "        [ 7.7192e-01],\n",
      "        [-8.2404e-02],\n",
      "        [ 1.2100e+00],\n",
      "        [ 5.5286e-01],\n",
      "        [ 5.7477e-01],\n",
      "        [-5.2052e-01],\n",
      "        [-1.9193e-01],\n",
      "        [ 2.8999e-01],\n",
      "        [-3.8909e-01],\n",
      "        [ 5.0905e-01],\n",
      "        [ 4.9030e-02],\n",
      "        [-3.6718e-01],\n",
      "        [-6.0499e-02],\n",
      "        [ 1.2977e+00],\n",
      "        [-9.1482e-01],\n",
      "        [-2.3574e-01],\n",
      "        [ 5.0905e-01],\n",
      "        [-8.2404e-02],\n",
      "        [-2.1384e-01],\n",
      "        [-2.1384e-01],\n",
      "        [ 2.7434e+00],\n",
      "        [-5.8624e-01],\n",
      "        [ 5.2187e-03],\n",
      "        [-1.0463e+00],\n",
      "        [ 5.2187e-03],\n",
      "        [-2.3574e-01],\n",
      "        [-3.8593e-02],\n",
      "        [-3.8909e-01],\n",
      "        [ 2.2428e-01],\n",
      "        [-3.2337e-01],\n",
      "        [-1.0431e-01],\n",
      "        [-4.3290e-01],\n",
      "        [-4.1099e-01],\n",
      "        [-4.9861e-01],\n",
      "        [ 9.2842e-02],\n",
      "        [ 3.3381e-01],\n",
      "        [-1.9193e-01],\n",
      "        [-2.3574e-01],\n",
      "        [-1.0244e+00],\n",
      "        [-5.2052e-01],\n",
      "        [-8.2404e-02],\n",
      "        [-3.8909e-01],\n",
      "        [ 2.2428e-01],\n",
      "        [-5.2052e-01],\n",
      "        [ 3.5571e-01],\n",
      "        [-6.3005e-01],\n",
      "        [ 1.8046e-01],\n",
      "        [-4.5480e-01],\n",
      "        [ 4.2143e-01],\n",
      "        [-3.8909e-01],\n",
      "        [ 1.1475e-01],\n",
      "        [ 2.0237e-01],\n",
      "        [-3.2337e-01],\n",
      "        [-3.2337e-01],\n",
      "        [ 9.2526e-01],\n",
      "        [ 3.7762e-01],\n",
      "        [-1.0431e-01],\n",
      "        [-7.3958e-01],\n",
      "        [-1.0024e+00],\n",
      "        [ 2.4618e-01],\n",
      "        [ 2.4618e-01],\n",
      "        [-5.2052e-01],\n",
      "        [ 7.5001e-01],\n",
      "        [ 5.3096e-01],\n",
      "        [ 9.2526e-01],\n",
      "        [ 4.6524e-01],\n",
      "        [-7.1767e-01],\n",
      "        [-6.0499e-02],\n",
      "        [-1.0463e+00],\n",
      "        [ 2.0237e-01],\n",
      "        [-8.0529e-01],\n",
      "        [-4.1099e-01],\n",
      "        [-4.5480e-01],\n",
      "        [-1.9193e-01],\n",
      "        [ 1.0129e+00],\n",
      "        [-6.0814e-01],\n",
      "        [-6.0499e-02],\n",
      "        [-7.3958e-01],\n",
      "        [ 6.4049e-01],\n",
      "        [-1.0463e+00],\n",
      "        [-2.7956e-01],\n",
      "        [ 7.0620e-01],\n",
      "        [-5.8624e-01],\n",
      "        [-3.6718e-01],\n",
      "        [ 1.5167e+00],\n",
      "        [-7.3958e-01],\n",
      "        [ 1.3665e-01],\n",
      "        [-3.2337e-01],\n",
      "        [-2.3574e-01],\n",
      "        [-1.7003e-01],\n",
      "        [ 2.7125e-02],\n",
      "        [ 5.9667e-01],\n",
      "        [ 4.2143e-01],\n",
      "        [-3.8909e-01],\n",
      "        [ 5.2187e-03],\n",
      "        [-4.5480e-01],\n",
      "        [-1.4812e-01],\n",
      "        [-2.1384e-01],\n",
      "        [ 1.3665e-01],\n",
      "        [-6.5195e-01],\n",
      "        [-6.0499e-02],\n",
      "        [-3.8593e-02],\n",
      "        [ 3.7762e-01],\n",
      "        [ 4.9030e-02],\n",
      "        [-7.6148e-01],\n",
      "        [ 1.7358e+00],\n",
      "        [-6.0499e-02],\n",
      "        [-4.3290e-01],\n",
      "        [-1.0463e+00],\n",
      "        [-3.8593e-02],\n",
      "        [-3.4527e-01],\n",
      "        [-4.9861e-01],\n",
      "        [-1.7003e-01],\n",
      "        [-5.6433e-01],\n",
      "        [ 6.8430e-01],\n",
      "        [ 9.2526e-01],\n",
      "        [-4.3290e-01],\n",
      "        [ 2.7125e-02],\n",
      "        [-6.0814e-01],\n",
      "        [ 6.8430e-01],\n",
      "        [-1.0463e+00],\n",
      "        [ 2.8999e-01],\n",
      "        [-4.9861e-01],\n",
      "        [ 3.3381e-01],\n",
      "        [-2.1384e-01],\n",
      "        [ 4.9030e-02],\n",
      "        [-3.8593e-02],\n",
      "        [-6.5195e-01],\n",
      "        [-6.0499e-02],\n",
      "        [ 3.7762e-01],\n",
      "        [-5.2052e-01],\n",
      "        [ 2.4618e-01],\n",
      "        [ 2.0237e-01],\n",
      "        [-2.3574e-01],\n",
      "        [ 2.6809e-01],\n",
      "        [ 8.1573e-01],\n",
      "        [-1.4812e-01],\n",
      "        [-1.0463e+00],\n",
      "        [ 4.9030e-02],\n",
      "        [ 3.5571e-01],\n",
      "        [ 1.0348e+00],\n",
      "        [-3.4527e-01],\n",
      "        [-2.1384e-01],\n",
      "        [-1.0463e+00],\n",
      "        [-1.0463e+00],\n",
      "        [-4.5480e-01],\n",
      "        [-8.4911e-01],\n",
      "        [ 3.9952e-01],\n",
      "        [ 7.0936e-02],\n",
      "        [-4.5480e-01],\n",
      "        [ 2.7125e-02],\n",
      "        [-5.2052e-01],\n",
      "        [-6.0499e-02],\n",
      "        [ 2.0237e-01]])\n"
     ]
    }
   ],
   "source": [
    "x, y = next(iter(train_iterator))\n",
    "print(x)\n",
    "print(y)"
   ]
  },
  {
   "cell_type": "markdown",
   "metadata": {
    "id": "KZuPIyvN4O9b"
   },
   "source": [
    "### Defining the Model\n",
    "\n",
    "Our model will be a neural network, specifically a multilayer perceptron (MLP) with two hidden layers. The image below shows the archicture of the model. \n",
    "\n",
    "The transformation between 784 to 250, 250 to 100 and 100 to 10 dimensions are done by `Linear` layers. These are also known as fully connected or affine layers. In these layers, every element in one layer is connected to every element in the next. We can think of these elements as *neurons*, as this architecture is inspired by how the human brain is made of millions of interconnected nodes, also called neurons. \n",
    "\n",
    "Each connection between a neuron in one layer and a neuron in the next has a *weight* associated with it. The input to one neuron is the sum of the weighted values of all neurons in the previous layer connected to it, plus a weighted bias term, where the bias value is always 1. The neuron then applies an *activation function* to this weighted sum. This activation function is a non-linear function that allows the neural network to learn non-linear functions between inputs and outputs. \n",
    "\n",
    "We define our MLP below, which consists of three linear layers. We first take the input batch of images and flatten them, so they can be passed into the linear layers. We then pass them through the first linear layer, `input_fc`, which calculates the weighted sum of the inputs, and then apply the *ReLU* (rectified linear unit) activation function elementwise. This result is then passed through another linear layer, `hidden_fc`, again applying the same activation function elementwise. Finally, we pass this through the final linear layer, `output_fc`. We return not only the output but also the second hidden layer as we will do some analysis on it later.\n",
    "\n",
    "One thing to note is that we do not use an activation function on the input directly or on the output. You should never use activation functions directly on the input, i.e. `F.relu(x)`. PyTorch combines activation functions to be applied on the output with the functions which calculate the *loss*, also known as *error* or *cost*, of a neural network. This is done for numerical stability.\n",
    "\n",
    "Why did we choose hidden dimensions of 250 and 100 elements? Why did we only have two hidden layers? There is no magic formula to tell us how many layers to use and how many neurons to have in each layer, and there is most probably a better set of values. However, the general idea is that neural networks extract features from data. Layers closer to the input learn to extract general features (e.g. lines, curves, edges), whilst later layers combine the features extracted from the previous layer into more high level features (e.g. the intersection of two lines making a cross, multiple curves make a circle). We force our neural network to learn these features by reducing the number of neurons in each layer. This way, it has to learn to compress information by extracting only the useful and general features. Thus, we want a neural network with multiple layers and some sort of information compression (reduced number of neurons in subsequent layers).\n",
    "\n",
    "# MODEL STRUCTURE"
   ]
  },
  {
   "cell_type": "code",
   "execution_count": 14,
   "metadata": {
    "id": "lAqzcW9XREvu"
   },
   "outputs": [],
   "source": [
    "input_dim, output_dim = 5, 1\n",
    "class LinearRegressionModel(nn.Module):\n",
    "    def __init__(self, input_dim, output_dim):\n",
    "        super(LinearRegressionModel, self).__init__()\n",
    "        self.linear = nn.Linear(input_dim, output_dim)  \n",
    "\n",
    "    def forward(self, x):\n",
    "        out = self.linear(x)\n",
    "        return out\n",
    "\n",
    "model = LinearRegressionModel(input_dim, output_dim)\n",
    "criterion = nn.MSELoss()\n",
    "optimizer = torch.optim.Adam(model.parameters(), lr=1e-4)"
   ]
  },
  {
   "cell_type": "markdown",
   "metadata": {
    "id": "FgPqWhK-4O9f"
   },
   "source": [
    "We'll define our model by creating an instance of it and setting the correct input and output dimensions."
   ]
  },
  {
   "cell_type": "markdown",
   "metadata": {
    "id": "F3bacWHd4O9j"
   },
   "source": [
    "We can also create a small function to calculate the number of trainable parameters (weights and biases) in our model - in case all of our parameters are trainable."
   ]
  },
  {
   "cell_type": "code",
   "execution_count": 15,
   "metadata": {
    "id": "1gF2fmTBREv8"
   },
   "outputs": [],
   "source": [
    "def count_parameters(model):\n",
    "    return sum(p.numel() for p in model.parameters() if p.requires_grad)"
   ]
  },
  {
   "cell_type": "markdown",
   "metadata": {
    "id": "gik6Q5ZB4O9q"
   },
   "source": [
    "The first layer has 784 neurons connected to 250 neurons, so 784*250 weighted connections plus 250 bias terms.\n",
    "\n",
    "The second layer has 250 neurons connected to 100 neurons, 250*100 weighted connections plus 100 bias terms.\n",
    "\n",
    "The third layer has 100 neurons connected to 10 neurons, 100*10 weighted connections plus 10 bias terms.\n",
    "\n",
    "$$784 \\cdot 250 + 250 + 250 \\cdot 100 + 100 + 100 \\cdot 10 + 10 = 222,360 $$"
   ]
  },
  {
   "cell_type": "code",
   "execution_count": 16,
   "metadata": {
    "colab": {
     "base_uri": "https://localhost:8080/",
     "height": 35
    },
    "id": "8N1iy4Sji4jl",
    "outputId": "753725c3-7394-4254-f8ca-073dc08648ac"
   },
   "outputs": [
    {
     "name": "stdout",
     "output_type": "stream",
     "text": [
      "The model has 6 trainable parameters\n"
     ]
    }
   ],
   "source": [
    "print(f'The model has {count_parameters(model):,} trainable parameters')"
   ]
  },
  {
   "cell_type": "markdown",
   "metadata": {
    "id": "IiL9hZqX4O9x"
   },
   "source": [
    "### Training the Model\n",
    "\n",
    "Next, we'll define our optimizer. This is the algorithm we will use to update the parameters of our model with respect to the loss calculated on the data.\n",
    "\n",
    "We aren't going to go into too much detail on how neural networks are trained (see [this](http://neuralnetworksanddeeplearning.com/) article if you want to know how) but the gist is:\n",
    "- pass a batch of data through your model\n",
    "- calculate the loss of your batch by comparing your model's predictions against the actual labels\n",
    "- calculate the gradient of each of your parameters with respect to the loss\n",
    "- update each of your parameters by subtracting their gradient multiplied by a small *learning rate* parameter\n",
    "\n",
    "We use the *Adam* algorithm with the default parameters to update our model. Improved results could be obtained by searching over different optimizers and learning rates, however default Adam is usually a good starting off point. Check out [this](https://ruder.io/optimizing-gradient-descent/) article if you want to learn more about the different optimization algorithms commonly used for neural networks."
   ]
  },
  {
   "cell_type": "markdown",
   "metadata": {
    "id": "gBvdk2RR4O95"
   },
   "source": [
    "# LOSS FUNCTION"
   ]
  },
  {
   "cell_type": "code",
   "execution_count": 17,
   "metadata": {
    "id": "OO2BL-qBREwD"
   },
   "outputs": [],
   "source": [
    "criterion = nn.MSELoss()"
   ]
  },
  {
   "cell_type": "markdown",
   "metadata": {
    "id": "dwKdgFmU4O-A"
   },
   "source": [
    "We then define `device`. This is used to place your model and data on to a GPU, if you have one."
   ]
  },
  {
   "cell_type": "code",
   "execution_count": 18,
   "metadata": {
    "id": "7QgyFD6gREwH"
   },
   "outputs": [],
   "source": [
    "device = torch.device('cuda' if torch.cuda.is_available() else 'cpu')"
   ]
  },
  {
   "cell_type": "markdown",
   "metadata": {
    "id": "qzKopDSd4O-F"
   },
   "source": [
    "We place our model and criterion on to the device by using the `.to` method."
   ]
  },
  {
   "cell_type": "code",
   "execution_count": 19,
   "metadata": {
    "id": "FTvjOcbLREwM"
   },
   "outputs": [],
   "source": [
    "model = model.to(device)\n",
    "criterion = criterion.to(device)"
   ]
  },
  {
   "cell_type": "markdown",
   "metadata": {},
   "source": [
    "# OPTIMIZER"
   ]
  },
  {
   "cell_type": "code",
   "execution_count": 20,
   "metadata": {
    "id": "eC2P8WJuREv_"
   },
   "outputs": [],
   "source": [
    "optimizer = optim.Adagrad(model.parameters())"
   ]
  },
  {
   "cell_type": "markdown",
   "metadata": {
    "id": "Bd0F_7i_4O-M"
   },
   "source": [
    "Next, we'll define a function to calculate the accuracy of our model. This takes the index of the highest value for your prediction and compares it against the actual class label. We then divide how many our model got correct by the amount in the batch to calculate accuracy across the batch."
   ]
  },
  {
   "cell_type": "code",
   "execution_count": 21,
   "metadata": {
    "id": "VkttGrmkREwP"
   },
   "outputs": [],
   "source": [
    "def calculate_accuracy(y_pred, y):\n",
    "    '''top_pred = y_pred.argmax(1, keepdim=True)\n",
    "    correct = top_pred.eq(y.view_as(top_pred)).sum()\n",
    "    acc = correct.float() / y.shape[0]'''\n",
    "    return 0 #acc"
   ]
  },
  {
   "cell_type": "markdown",
   "metadata": {
    "id": "d3T0oPWh4O-R"
   },
   "source": [
    "We finally define our training loop.\n",
    "\n",
    "This will:\n",
    "- put our model into `train` mode\n",
    "- iterate over our dataloader, returning batches of (image, label)\n",
    "- place the batch on to our GPU, if we have one\n",
    "- clear the gradients calculated from the last batch\n",
    "- pass our batch of images, `x`, through to model to get predictions, `y_pred`\n",
    "- calculate the loss between our predictions and the actual labels\n",
    "- calculate the accuracy between our predictions and the actual labels\n",
    "- calculate the gradients of each parameter\n",
    "- update the parameters by taking an optimizer step\n",
    "- update our metrics\n",
    "\n",
    "Some layers act differently when training and evaluating the model that contains them, hence why we must tell our model we are in \"training\" mode. The model we are using here does not use any of those layers, however it is good practice to get used to putting your model in training mode."
   ]
  },
  {
   "cell_type": "code",
   "execution_count": 22,
   "metadata": {
    "id": "0kCtKBMfREwS"
   },
   "outputs": [],
   "source": [
    "def train(model, iterator, optimizer, criterion, device):\n",
    "\n",
    "    epoch_loss = 0\n",
    "    epoch_acc = 0\n",
    "\n",
    "    model.train()\n",
    "\n",
    "    for (x, y) in tqdm(iterator, desc=\"Training\", leave=False):\n",
    "\n",
    "        x = x.to(device)\n",
    "        y = y.to(device)\n",
    "\n",
    "        optimizer.zero_grad()\n",
    "\n",
    "        y_pred = model(x)\n",
    "\n",
    "        loss = criterion(y_pred, y)\n",
    "\n",
    "        acc = calculate_accuracy(y_pred, y)\n",
    "\n",
    "        loss.backward()\n",
    "\n",
    "        optimizer.step()\n",
    "\n",
    "        epoch_loss += loss.item()\n",
    "        epoch_acc += 0 #acc.item()\n",
    "\n",
    "    return epoch_loss / len(iterator), epoch_acc / len(iterator)"
   ]
  },
  {
   "cell_type": "markdown",
   "metadata": {
    "id": "9kuF4-Cx4O-X"
   },
   "source": [
    "The evaluation loop is similar to the training loop. The differences are:\n",
    "- we put our model into evaluation mode with `model.eval()`\n",
    "- we wrap the iterations inside a `with torch.no_grad()`\n",
    "- we do not zero gradients as we are not calculating any\n",
    "- we do not calculate gradients as we are not updating parameters\n",
    "- we do not take an optimizer step as we are not calculating gradients\n",
    "\n",
    "`torch.no_grad()` ensures that gradients are not calculated for whatever is inside the `with` block. As our model will not have to calculate gradients, it will be faster and use less memory. "
   ]
  },
  {
   "cell_type": "code",
   "execution_count": 23,
   "metadata": {
    "id": "3XL4sRI8REwV"
   },
   "outputs": [],
   "source": [
    "def evaluate(model, iterator, criterion, device):\n",
    "\n",
    "    epoch_loss = 0\n",
    "    epoch_acc = 0\n",
    "\n",
    "    model.eval()\n",
    "\n",
    "    with torch.no_grad():\n",
    "\n",
    "        for (x, y) in tqdm(iterator, desc=\"Evaluating\", leave=False):\n",
    "\n",
    "            x = x.to(device)\n",
    "            y = y.to(device)\n",
    "\n",
    "            y_pred = model(x)\n",
    "\n",
    "            loss = criterion(y_pred, y)\n",
    "\n",
    "            acc = calculate_accuracy(y_pred, y)\n",
    "\n",
    "            epoch_loss += loss.item()\n",
    "            epoch_acc += 0 #acc.item()\n",
    "\n",
    "    return epoch_loss / len(iterator), epoch_acc / len(iterator)"
   ]
  },
  {
   "cell_type": "markdown",
   "metadata": {
    "id": "dySDirym4O-c"
   },
   "source": [
    "The final step before training is to define a small function to tell us how long an epoch took."
   ]
  },
  {
   "cell_type": "code",
   "execution_count": 24,
   "metadata": {
    "id": "ENrsvnEZREwZ"
   },
   "outputs": [],
   "source": [
    "def epoch_time(start_time, end_time):\n",
    "    elapsed_time = end_time - start_time\n",
    "    elapsed_mins = int(elapsed_time / 60)\n",
    "    elapsed_secs = int(elapsed_time - (elapsed_mins * 60))\n",
    "    return elapsed_mins, elapsed_secs"
   ]
  },
  {
   "cell_type": "markdown",
   "metadata": {
    "id": "uHn-rDvA4O-h"
   },
   "source": [
    "We're finally ready to train!\n",
    "\n",
    "During each epoch we calculate the training loss and accuracy, followed by the validation loss and accuracy. We then check if the validation loss achieved is the best validation loss we have seen. If so, we save our model's parameters (called a `state_dict`)."
   ]
  },
  {
   "cell_type": "markdown",
   "metadata": {},
   "source": [
    "# NUMBER OF EPOCHS"
   ]
  },
  {
   "cell_type": "code",
   "execution_count": 25,
   "metadata": {
    "colab": {
     "base_uri": "https://localhost:8080/",
     "height": 557
    },
    "id": "p-gtfzafREwc",
    "outputId": "a1314661-c18c-4de6-d6f5-89541165199e"
   },
   "outputs": [
    {
     "data": {
      "application/vnd.jupyter.widget-view+json": {
       "model_id": "a6019ac782544b9483deb3b22af395c5",
       "version_major": 2,
       "version_minor": 0
      },
      "text/plain": [
       "  0%|          | 0/20 [00:00<?, ?it/s]"
      ]
     },
     "metadata": {},
     "output_type": "display_data"
    },
    {
     "data": {
      "application/vnd.jupyter.widget-view+json": {
       "model_id": "",
       "version_major": 2,
       "version_minor": 0
      },
      "text/plain": [
       "Training:   0%|          | 0/1626 [00:00<?, ?it/s]"
      ]
     },
     "metadata": {},
     "output_type": "display_data"
    },
    {
     "data": {
      "application/vnd.jupyter.widget-view+json": {
       "model_id": "",
       "version_major": 2,
       "version_minor": 0
      },
      "text/plain": [
       "Evaluating:   0%|          | 0/82 [00:00<?, ?it/s]"
      ]
     },
     "metadata": {},
     "output_type": "display_data"
    },
    {
     "name": "stdout",
     "output_type": "stream",
     "text": [
      "Epoch: 01 | Epoch Time: 0m 15s\n",
      "\tTrain Loss: 0.980 | Train Acc: 0.00%\n",
      "\t Val. Loss: 0.850 |  Val. Acc: 0.00%\n"
     ]
    },
    {
     "data": {
      "application/vnd.jupyter.widget-view+json": {
       "model_id": "",
       "version_major": 2,
       "version_minor": 0
      },
      "text/plain": [
       "Training:   0%|          | 0/1626 [00:00<?, ?it/s]"
      ]
     },
     "metadata": {},
     "output_type": "display_data"
    },
    {
     "data": {
      "application/vnd.jupyter.widget-view+json": {
       "model_id": "",
       "version_major": 2,
       "version_minor": 0
      },
      "text/plain": [
       "Evaluating:   0%|          | 0/82 [00:00<?, ?it/s]"
      ]
     },
     "metadata": {},
     "output_type": "display_data"
    },
    {
     "name": "stdout",
     "output_type": "stream",
     "text": [
      "Epoch: 02 | Epoch Time: 0m 13s\n",
      "\tTrain Loss: 0.952 | Train Acc: 0.00%\n",
      "\t Val. Loss: 0.841 |  Val. Acc: 0.00%\n"
     ]
    },
    {
     "data": {
      "application/vnd.jupyter.widget-view+json": {
       "model_id": "",
       "version_major": 2,
       "version_minor": 0
      },
      "text/plain": [
       "Training:   0%|          | 0/1626 [00:00<?, ?it/s]"
      ]
     },
     "metadata": {},
     "output_type": "display_data"
    },
    {
     "data": {
      "application/vnd.jupyter.widget-view+json": {
       "model_id": "",
       "version_major": 2,
       "version_minor": 0
      },
      "text/plain": [
       "Evaluating:   0%|          | 0/82 [00:00<?, ?it/s]"
      ]
     },
     "metadata": {},
     "output_type": "display_data"
    },
    {
     "name": "stdout",
     "output_type": "stream",
     "text": [
      "Epoch: 03 | Epoch Time: 0m 12s\n",
      "\tTrain Loss: 0.947 | Train Acc: 0.00%\n",
      "\t Val. Loss: 0.838 |  Val. Acc: 0.00%\n"
     ]
    },
    {
     "data": {
      "application/vnd.jupyter.widget-view+json": {
       "model_id": "",
       "version_major": 2,
       "version_minor": 0
      },
      "text/plain": [
       "Training:   0%|          | 0/1626 [00:00<?, ?it/s]"
      ]
     },
     "metadata": {},
     "output_type": "display_data"
    },
    {
     "data": {
      "application/vnd.jupyter.widget-view+json": {
       "model_id": "",
       "version_major": 2,
       "version_minor": 0
      },
      "text/plain": [
       "Evaluating:   0%|          | 0/82 [00:00<?, ?it/s]"
      ]
     },
     "metadata": {},
     "output_type": "display_data"
    },
    {
     "name": "stdout",
     "output_type": "stream",
     "text": [
      "Epoch: 04 | Epoch Time: 0m 12s\n",
      "\tTrain Loss: 0.943 | Train Acc: 0.00%\n",
      "\t Val. Loss: 0.837 |  Val. Acc: 0.00%\n"
     ]
    },
    {
     "data": {
      "application/vnd.jupyter.widget-view+json": {
       "model_id": "",
       "version_major": 2,
       "version_minor": 0
      },
      "text/plain": [
       "Training:   0%|          | 0/1626 [00:00<?, ?it/s]"
      ]
     },
     "metadata": {},
     "output_type": "display_data"
    },
    {
     "data": {
      "application/vnd.jupyter.widget-view+json": {
       "model_id": "",
       "version_major": 2,
       "version_minor": 0
      },
      "text/plain": [
       "Evaluating:   0%|          | 0/82 [00:00<?, ?it/s]"
      ]
     },
     "metadata": {},
     "output_type": "display_data"
    },
    {
     "name": "stdout",
     "output_type": "stream",
     "text": [
      "Epoch: 05 | Epoch Time: 0m 12s\n",
      "\tTrain Loss: 0.942 | Train Acc: 0.00%\n",
      "\t Val. Loss: 0.836 |  Val. Acc: 0.00%\n"
     ]
    },
    {
     "data": {
      "application/vnd.jupyter.widget-view+json": {
       "model_id": "",
       "version_major": 2,
       "version_minor": 0
      },
      "text/plain": [
       "Training:   0%|          | 0/1626 [00:00<?, ?it/s]"
      ]
     },
     "metadata": {},
     "output_type": "display_data"
    },
    {
     "data": {
      "application/vnd.jupyter.widget-view+json": {
       "model_id": "",
       "version_major": 2,
       "version_minor": 0
      },
      "text/plain": [
       "Evaluating:   0%|          | 0/82 [00:00<?, ?it/s]"
      ]
     },
     "metadata": {},
     "output_type": "display_data"
    },
    {
     "name": "stdout",
     "output_type": "stream",
     "text": [
      "Epoch: 06 | Epoch Time: 0m 13s\n",
      "\tTrain Loss: 0.942 | Train Acc: 0.00%\n",
      "\t Val. Loss: 0.836 |  Val. Acc: 0.00%\n"
     ]
    },
    {
     "data": {
      "application/vnd.jupyter.widget-view+json": {
       "model_id": "",
       "version_major": 2,
       "version_minor": 0
      },
      "text/plain": [
       "Training:   0%|          | 0/1626 [00:00<?, ?it/s]"
      ]
     },
     "metadata": {},
     "output_type": "display_data"
    },
    {
     "data": {
      "application/vnd.jupyter.widget-view+json": {
       "model_id": "",
       "version_major": 2,
       "version_minor": 0
      },
      "text/plain": [
       "Evaluating:   0%|          | 0/82 [00:00<?, ?it/s]"
      ]
     },
     "metadata": {},
     "output_type": "display_data"
    },
    {
     "name": "stdout",
     "output_type": "stream",
     "text": [
      "Epoch: 07 | Epoch Time: 0m 11s\n",
      "\tTrain Loss: 0.941 | Train Acc: 0.00%\n",
      "\t Val. Loss: 0.836 |  Val. Acc: 0.00%\n"
     ]
    },
    {
     "data": {
      "application/vnd.jupyter.widget-view+json": {
       "model_id": "",
       "version_major": 2,
       "version_minor": 0
      },
      "text/plain": [
       "Training:   0%|          | 0/1626 [00:00<?, ?it/s]"
      ]
     },
     "metadata": {},
     "output_type": "display_data"
    },
    {
     "data": {
      "application/vnd.jupyter.widget-view+json": {
       "model_id": "",
       "version_major": 2,
       "version_minor": 0
      },
      "text/plain": [
       "Evaluating:   0%|          | 0/82 [00:00<?, ?it/s]"
      ]
     },
     "metadata": {},
     "output_type": "display_data"
    },
    {
     "name": "stdout",
     "output_type": "stream",
     "text": [
      "Epoch: 08 | Epoch Time: 0m 12s\n",
      "\tTrain Loss: 0.941 | Train Acc: 0.00%\n",
      "\t Val. Loss: 0.836 |  Val. Acc: 0.00%\n"
     ]
    },
    {
     "data": {
      "application/vnd.jupyter.widget-view+json": {
       "model_id": "",
       "version_major": 2,
       "version_minor": 0
      },
      "text/plain": [
       "Training:   0%|          | 0/1626 [00:00<?, ?it/s]"
      ]
     },
     "metadata": {},
     "output_type": "display_data"
    },
    {
     "data": {
      "application/vnd.jupyter.widget-view+json": {
       "model_id": "",
       "version_major": 2,
       "version_minor": 0
      },
      "text/plain": [
       "Evaluating:   0%|          | 0/82 [00:00<?, ?it/s]"
      ]
     },
     "metadata": {},
     "output_type": "display_data"
    },
    {
     "name": "stdout",
     "output_type": "stream",
     "text": [
      "Epoch: 09 | Epoch Time: 0m 12s\n",
      "\tTrain Loss: 0.953 | Train Acc: 0.00%\n",
      "\t Val. Loss: 0.836 |  Val. Acc: 0.00%\n"
     ]
    },
    {
     "data": {
      "application/vnd.jupyter.widget-view+json": {
       "model_id": "",
       "version_major": 2,
       "version_minor": 0
      },
      "text/plain": [
       "Training:   0%|          | 0/1626 [00:00<?, ?it/s]"
      ]
     },
     "metadata": {},
     "output_type": "display_data"
    },
    {
     "data": {
      "application/vnd.jupyter.widget-view+json": {
       "model_id": "",
       "version_major": 2,
       "version_minor": 0
      },
      "text/plain": [
       "Evaluating:   0%|          | 0/82 [00:00<?, ?it/s]"
      ]
     },
     "metadata": {},
     "output_type": "display_data"
    },
    {
     "name": "stdout",
     "output_type": "stream",
     "text": [
      "Epoch: 10 | Epoch Time: 0m 12s\n",
      "\tTrain Loss: 0.941 | Train Acc: 0.00%\n",
      "\t Val. Loss: 0.836 |  Val. Acc: 0.00%\n"
     ]
    },
    {
     "data": {
      "application/vnd.jupyter.widget-view+json": {
       "model_id": "",
       "version_major": 2,
       "version_minor": 0
      },
      "text/plain": [
       "Training:   0%|          | 0/1626 [00:00<?, ?it/s]"
      ]
     },
     "metadata": {},
     "output_type": "display_data"
    },
    {
     "data": {
      "application/vnd.jupyter.widget-view+json": {
       "model_id": "",
       "version_major": 2,
       "version_minor": 0
      },
      "text/plain": [
       "Evaluating:   0%|          | 0/82 [00:00<?, ?it/s]"
      ]
     },
     "metadata": {},
     "output_type": "display_data"
    },
    {
     "name": "stdout",
     "output_type": "stream",
     "text": [
      "Epoch: 11 | Epoch Time: 0m 12s\n",
      "\tTrain Loss: 0.941 | Train Acc: 0.00%\n",
      "\t Val. Loss: 0.836 |  Val. Acc: 0.00%\n"
     ]
    },
    {
     "data": {
      "application/vnd.jupyter.widget-view+json": {
       "model_id": "",
       "version_major": 2,
       "version_minor": 0
      },
      "text/plain": [
       "Training:   0%|          | 0/1626 [00:00<?, ?it/s]"
      ]
     },
     "metadata": {},
     "output_type": "display_data"
    },
    {
     "data": {
      "application/vnd.jupyter.widget-view+json": {
       "model_id": "",
       "version_major": 2,
       "version_minor": 0
      },
      "text/plain": [
       "Evaluating:   0%|          | 0/82 [00:00<?, ?it/s]"
      ]
     },
     "metadata": {},
     "output_type": "display_data"
    },
    {
     "name": "stdout",
     "output_type": "stream",
     "text": [
      "Epoch: 12 | Epoch Time: 0m 12s\n",
      "\tTrain Loss: 0.941 | Train Acc: 0.00%\n",
      "\t Val. Loss: 0.836 |  Val. Acc: 0.00%\n"
     ]
    },
    {
     "data": {
      "application/vnd.jupyter.widget-view+json": {
       "model_id": "",
       "version_major": 2,
       "version_minor": 0
      },
      "text/plain": [
       "Training:   0%|          | 0/1626 [00:00<?, ?it/s]"
      ]
     },
     "metadata": {},
     "output_type": "display_data"
    },
    {
     "data": {
      "application/vnd.jupyter.widget-view+json": {
       "model_id": "",
       "version_major": 2,
       "version_minor": 0
      },
      "text/plain": [
       "Evaluating:   0%|          | 0/82 [00:00<?, ?it/s]"
      ]
     },
     "metadata": {},
     "output_type": "display_data"
    },
    {
     "name": "stdout",
     "output_type": "stream",
     "text": [
      "Epoch: 13 | Epoch Time: 0m 12s\n",
      "\tTrain Loss: 0.941 | Train Acc: 0.00%\n",
      "\t Val. Loss: 0.836 |  Val. Acc: 0.00%\n"
     ]
    },
    {
     "data": {
      "application/vnd.jupyter.widget-view+json": {
       "model_id": "",
       "version_major": 2,
       "version_minor": 0
      },
      "text/plain": [
       "Training:   0%|          | 0/1626 [00:00<?, ?it/s]"
      ]
     },
     "metadata": {},
     "output_type": "display_data"
    },
    {
     "data": {
      "application/vnd.jupyter.widget-view+json": {
       "model_id": "",
       "version_major": 2,
       "version_minor": 0
      },
      "text/plain": [
       "Evaluating:   0%|          | 0/82 [00:00<?, ?it/s]"
      ]
     },
     "metadata": {},
     "output_type": "display_data"
    },
    {
     "name": "stdout",
     "output_type": "stream",
     "text": [
      "Epoch: 14 | Epoch Time: 0m 12s\n",
      "\tTrain Loss: 0.941 | Train Acc: 0.00%\n",
      "\t Val. Loss: 0.836 |  Val. Acc: 0.00%\n"
     ]
    },
    {
     "data": {
      "application/vnd.jupyter.widget-view+json": {
       "model_id": "",
       "version_major": 2,
       "version_minor": 0
      },
      "text/plain": [
       "Training:   0%|          | 0/1626 [00:00<?, ?it/s]"
      ]
     },
     "metadata": {},
     "output_type": "display_data"
    },
    {
     "data": {
      "application/vnd.jupyter.widget-view+json": {
       "model_id": "",
       "version_major": 2,
       "version_minor": 0
      },
      "text/plain": [
       "Evaluating:   0%|          | 0/82 [00:00<?, ?it/s]"
      ]
     },
     "metadata": {},
     "output_type": "display_data"
    },
    {
     "name": "stdout",
     "output_type": "stream",
     "text": [
      "Epoch: 15 | Epoch Time: 0m 12s\n",
      "\tTrain Loss: 0.941 | Train Acc: 0.00%\n",
      "\t Val. Loss: 0.836 |  Val. Acc: 0.00%\n"
     ]
    },
    {
     "data": {
      "application/vnd.jupyter.widget-view+json": {
       "model_id": "",
       "version_major": 2,
       "version_minor": 0
      },
      "text/plain": [
       "Training:   0%|          | 0/1626 [00:00<?, ?it/s]"
      ]
     },
     "metadata": {},
     "output_type": "display_data"
    },
    {
     "data": {
      "application/vnd.jupyter.widget-view+json": {
       "model_id": "",
       "version_major": 2,
       "version_minor": 0
      },
      "text/plain": [
       "Evaluating:   0%|          | 0/82 [00:00<?, ?it/s]"
      ]
     },
     "metadata": {},
     "output_type": "display_data"
    },
    {
     "name": "stdout",
     "output_type": "stream",
     "text": [
      "Epoch: 16 | Epoch Time: 0m 12s\n",
      "\tTrain Loss: 0.941 | Train Acc: 0.00%\n",
      "\t Val. Loss: 0.836 |  Val. Acc: 0.00%\n"
     ]
    },
    {
     "data": {
      "application/vnd.jupyter.widget-view+json": {
       "model_id": "",
       "version_major": 2,
       "version_minor": 0
      },
      "text/plain": [
       "Training:   0%|          | 0/1626 [00:00<?, ?it/s]"
      ]
     },
     "metadata": {},
     "output_type": "display_data"
    },
    {
     "data": {
      "application/vnd.jupyter.widget-view+json": {
       "model_id": "",
       "version_major": 2,
       "version_minor": 0
      },
      "text/plain": [
       "Evaluating:   0%|          | 0/82 [00:00<?, ?it/s]"
      ]
     },
     "metadata": {},
     "output_type": "display_data"
    },
    {
     "name": "stdout",
     "output_type": "stream",
     "text": [
      "Epoch: 17 | Epoch Time: 0m 12s\n",
      "\tTrain Loss: 0.941 | Train Acc: 0.00%\n",
      "\t Val. Loss: 0.836 |  Val. Acc: 0.00%\n"
     ]
    },
    {
     "data": {
      "application/vnd.jupyter.widget-view+json": {
       "model_id": "",
       "version_major": 2,
       "version_minor": 0
      },
      "text/plain": [
       "Training:   0%|          | 0/1626 [00:00<?, ?it/s]"
      ]
     },
     "metadata": {},
     "output_type": "display_data"
    },
    {
     "data": {
      "application/vnd.jupyter.widget-view+json": {
       "model_id": "",
       "version_major": 2,
       "version_minor": 0
      },
      "text/plain": [
       "Evaluating:   0%|          | 0/82 [00:00<?, ?it/s]"
      ]
     },
     "metadata": {},
     "output_type": "display_data"
    },
    {
     "name": "stdout",
     "output_type": "stream",
     "text": [
      "Epoch: 18 | Epoch Time: 0m 12s\n",
      "\tTrain Loss: 0.941 | Train Acc: 0.00%\n",
      "\t Val. Loss: 0.836 |  Val. Acc: 0.00%\n"
     ]
    },
    {
     "data": {
      "application/vnd.jupyter.widget-view+json": {
       "model_id": "",
       "version_major": 2,
       "version_minor": 0
      },
      "text/plain": [
       "Training:   0%|          | 0/1626 [00:00<?, ?it/s]"
      ]
     },
     "metadata": {},
     "output_type": "display_data"
    },
    {
     "data": {
      "application/vnd.jupyter.widget-view+json": {
       "model_id": "",
       "version_major": 2,
       "version_minor": 0
      },
      "text/plain": [
       "Evaluating:   0%|          | 0/82 [00:00<?, ?it/s]"
      ]
     },
     "metadata": {},
     "output_type": "display_data"
    },
    {
     "name": "stdout",
     "output_type": "stream",
     "text": [
      "Epoch: 19 | Epoch Time: 0m 12s\n",
      "\tTrain Loss: 0.941 | Train Acc: 0.00%\n",
      "\t Val. Loss: 0.836 |  Val. Acc: 0.00%\n"
     ]
    },
    {
     "data": {
      "application/vnd.jupyter.widget-view+json": {
       "model_id": "",
       "version_major": 2,
       "version_minor": 0
      },
      "text/plain": [
       "Training:   0%|          | 0/1626 [00:00<?, ?it/s]"
      ]
     },
     "metadata": {},
     "output_type": "display_data"
    },
    {
     "data": {
      "application/vnd.jupyter.widget-view+json": {
       "model_id": "",
       "version_major": 2,
       "version_minor": 0
      },
      "text/plain": [
       "Evaluating:   0%|          | 0/82 [00:00<?, ?it/s]"
      ]
     },
     "metadata": {},
     "output_type": "display_data"
    },
    {
     "name": "stdout",
     "output_type": "stream",
     "text": [
      "Epoch: 20 | Epoch Time: 0m 12s\n",
      "\tTrain Loss: 0.941 | Train Acc: 0.00%\n",
      "\t Val. Loss: 0.836 |  Val. Acc: 0.00%\n"
     ]
    }
   ],
   "source": [
    "EPOCHS = 20\n",
    "\n",
    "best_valid_loss = float('inf')\n",
    "\n",
    "for epoch in trange(EPOCHS):\n",
    "\n",
    "    start_time = time.monotonic()\n",
    "\n",
    "    train_loss, train_acc = train(model, train_iterator, optimizer, criterion, device)\n",
    "    valid_loss, valid_acc = evaluate(model, valid_iterator, criterion, device)\n",
    "\n",
    "    if valid_loss < best_valid_loss:\n",
    "        best_valid_loss = valid_loss\n",
    "        torch.save(model.state_dict(), 'tut1-model.pt')\n",
    "\n",
    "    end_time = time.monotonic()\n",
    "\n",
    "    epoch_mins, epoch_secs = epoch_time(start_time, end_time)\n",
    "\n",
    "    print(f'Epoch: {epoch+1:02} | Epoch Time: {epoch_mins}m {epoch_secs}s')\n",
    "    print(f'\\tTrain Loss: {train_loss:.3f} | Train Acc: {train_acc*100:.2f}%')\n",
    "    print(f'\\t Val. Loss: {valid_loss:.3f} |  Val. Acc: {valid_acc*100:.2f}%')"
   ]
  },
  {
   "cell_type": "markdown",
   "metadata": {
    "id": "bBYcKw8Y4O-k"
   },
   "source": [
    "Afterwards, we load our the parameters of the model that achieved the best validation loss and then use this to evaluate our model on the test set."
   ]
  },
  {
   "cell_type": "code",
   "execution_count": 26,
   "metadata": {
    "id": "VGDeNGLhREwf"
   },
   "outputs": [
    {
     "data": {
      "application/vnd.jupyter.widget-view+json": {
       "model_id": "",
       "version_major": 2,
       "version_minor": 0
      },
      "text/plain": [
       "Evaluating:   0%|          | 0/5 [00:00<?, ?it/s]"
      ]
     },
     "metadata": {},
     "output_type": "display_data"
    }
   ],
   "source": [
    "model.load_state_dict(torch.load('tut1-model.pt'))\n",
    "\n",
    "test_loss, test_acc = evaluate(model, test_iterator, criterion, device)"
   ]
  },
  {
   "cell_type": "markdown",
   "metadata": {
    "id": "tUPPCMA34O-p"
   },
   "source": [
    "Our model achieves 98% accuracy on the test set.\n",
    "\n",
    "This can be improved by tweaking hyperparameters, e.g. number of layers, number of neurons per layer, optimization algorithm used, learning rate, etc. "
   ]
  },
  {
   "cell_type": "code",
   "execution_count": 27,
   "metadata": {
    "colab": {
     "base_uri": "https://localhost:8080/",
     "height": 35
    },
    "id": "WrRhzovQRho5",
    "outputId": "87424d6b-9007-4b7b-d259-d05fdf040d3d"
   },
   "outputs": [
    {
     "name": "stdout",
     "output_type": "stream",
     "text": [
      "Test Loss: 0.702 | Test Acc: 0.00%\n"
     ]
    }
   ],
   "source": [
    "print(f'Test Loss: {test_loss:.3f} | Test Acc: {test_acc*100:.2f}%')"
   ]
  },
  {
   "cell_type": "code",
   "execution_count": 28,
   "metadata": {},
   "outputs": [
    {
     "data": {
      "application/vnd.jupyter.widget-view+json": {
       "model_id": "",
       "version_major": 2,
       "version_minor": 0
      },
      "text/plain": [
       "Evaluating:   0%|          | 0/1 [00:00<?, ?it/s]"
      ]
     },
     "metadata": {},
     "output_type": "display_data"
    }
   ],
   "source": [
    "test_data = CustomDataset(\"test_engineered.csv\")\n",
    "test_iterator = data.DataLoader(test_data,\n",
    "                                batch_size=BATCH_SIZE)\n",
    "\n",
    "df_result = pd.read_csv(\"sampleSubmission.csv\", index_col = False)\n",
    "\n",
    "model.eval()\n",
    "\n",
    "mean = 716.4264615618442\n",
    "sd = 684.7511617508213\n",
    "\n",
    "with torch.no_grad():\n",
    "\n",
    "    for (x, y) in tqdm(test_iterator, desc=\"Evaluating\", leave=False):\n",
    "\n",
    "        x = x.to(device)\n",
    "        y = y.to(device)\n",
    "\n",
    "        y_pred = model(x)\n",
    "        \n",
    "        df_result['TRAVEL_TIME'] = pd.DataFrame(y_pred.cpu().numpy())\n",
    "        df_result['TRAVEL_TIME'] = df_result['TRAVEL_TIME'].apply(lambda x : (x * sd) + mean)\n",
    "\n",
    "df_result.to_csv(\"submission.csv\", index=False)"
   ]
  },
  {
   "cell_type": "code",
   "execution_count": 29,
   "metadata": {},
   "outputs": [
    {
     "data": {
      "text/html": [
       "<div>\n",
       "<style scoped>\n",
       "    .dataframe tbody tr th:only-of-type {\n",
       "        vertical-align: middle;\n",
       "    }\n",
       "\n",
       "    .dataframe tbody tr th {\n",
       "        vertical-align: top;\n",
       "    }\n",
       "\n",
       "    .dataframe thead th {\n",
       "        text-align: right;\n",
       "    }\n",
       "</style>\n",
       "<table border=\"1\" class=\"dataframe\">\n",
       "  <thead>\n",
       "    <tr style=\"text-align: right;\">\n",
       "      <th></th>\n",
       "      <th>TRIP_ID</th>\n",
       "      <th>TRAVEL_TIME</th>\n",
       "    </tr>\n",
       "  </thead>\n",
       "  <tbody>\n",
       "    <tr>\n",
       "      <th>0</th>\n",
       "      <td>T1</td>\n",
       "      <td>821.783940</td>\n",
       "    </tr>\n",
       "    <tr>\n",
       "      <th>1</th>\n",
       "      <td>T2</td>\n",
       "      <td>781.417559</td>\n",
       "    </tr>\n",
       "    <tr>\n",
       "      <th>2</th>\n",
       "      <td>T3</td>\n",
       "      <td>729.839605</td>\n",
       "    </tr>\n",
       "    <tr>\n",
       "      <th>3</th>\n",
       "      <td>T4</td>\n",
       "      <td>743.122130</td>\n",
       "    </tr>\n",
       "    <tr>\n",
       "      <th>4</th>\n",
       "      <td>T5</td>\n",
       "      <td>749.977171</td>\n",
       "    </tr>\n",
       "    <tr>\n",
       "      <th>...</th>\n",
       "      <td>...</td>\n",
       "      <td>...</td>\n",
       "    </tr>\n",
       "    <tr>\n",
       "      <th>315</th>\n",
       "      <td>T323</td>\n",
       "      <td>650.889064</td>\n",
       "    </tr>\n",
       "    <tr>\n",
       "      <th>316</th>\n",
       "      <td>T324</td>\n",
       "      <td>637.075509</td>\n",
       "    </tr>\n",
       "    <tr>\n",
       "      <th>317</th>\n",
       "      <td>T325</td>\n",
       "      <td>821.545146</td>\n",
       "    </tr>\n",
       "    <tr>\n",
       "      <th>318</th>\n",
       "      <td>T326</td>\n",
       "      <td>657.896123</td>\n",
       "    </tr>\n",
       "    <tr>\n",
       "      <th>319</th>\n",
       "      <td>T327</td>\n",
       "      <td>662.347928</td>\n",
       "    </tr>\n",
       "  </tbody>\n",
       "</table>\n",
       "<p>320 rows × 2 columns</p>\n",
       "</div>"
      ],
      "text/plain": [
       "    TRIP_ID  TRAVEL_TIME\n",
       "0        T1   821.783940\n",
       "1        T2   781.417559\n",
       "2        T3   729.839605\n",
       "3        T4   743.122130\n",
       "4        T5   749.977171\n",
       "..      ...          ...\n",
       "315    T323   650.889064\n",
       "316    T324   637.075509\n",
       "317    T325   821.545146\n",
       "318    T326   657.896123\n",
       "319    T327   662.347928\n",
       "\n",
       "[320 rows x 2 columns]"
      ]
     },
     "execution_count": 29,
     "metadata": {},
     "output_type": "execute_result"
    }
   ],
   "source": [
    "df_result"
   ]
  },
  {
   "cell_type": "markdown",
   "metadata": {
    "id": "AeInowvn4O-0"
   },
   "source": [
    "### Examining the Model\n",
    "\n",
    "Now we've trained our model, there are a few things we can look at. Most of these are simple exploratory analysis, but they can offer some insights into your model.\n",
    "\n",
    "An important thing to do is check what examples your model gets wrong and ensure that they're reasonable mistakes.\n",
    "\n",
    "The function below will return the model's predictions over a given dataset. It will return the inputs (image) the outputs (model predictions) and the ground truth labels."
   ]
  },
  {
   "cell_type": "code",
   "execution_count": null,
   "metadata": {
    "id": "cK-f6JLGNp2u"
   },
   "outputs": [],
   "source": [
    "def get_predictions(model, iterator, device):\n",
    "\n",
    "    model.eval()\n",
    "\n",
    "    images = []\n",
    "    labels = []\n",
    "    probs = []\n",
    "\n",
    "    with torch.no_grad():\n",
    "\n",
    "        for (x, y) in iterator:\n",
    "\n",
    "            x = x.to(device)\n",
    "\n",
    "            y_pred, _ = model(x)\n",
    "\n",
    "            y_prob = F.softmax(y_pred, dim=-1)\n",
    "\n",
    "            images.append(x.cpu())\n",
    "            labels.append(y.cpu())\n",
    "            probs.append(y_prob.cpu())\n",
    "\n",
    "    images = torch.cat(images, dim=0)\n",
    "    labels = torch.cat(labels, dim=0)\n",
    "    probs = torch.cat(probs, dim=0)\n",
    "\n",
    "    return images, labels, probs"
   ]
  },
  {
   "cell_type": "markdown",
   "metadata": {
    "id": "mwO_bDPTOGFG"
   },
   "source": [
    "We can then get these predictions and, by taking the index of the highest predicted probability, get the predicted labels."
   ]
  },
  {
   "cell_type": "code",
   "execution_count": null,
   "metadata": {
    "id": "jRqKe4PNognL"
   },
   "outputs": [],
   "source": [
    "images, labels, probs = get_predictions(model, test_iterator, device)\n",
    "\n",
    "pred_labels = torch.argmax(probs, 1)"
   ]
  },
  {
   "cell_type": "markdown",
   "metadata": {
    "id": "0lVdWZ4gOr2R"
   },
   "source": [
    "Then, we can make a confusion matrix from our actual labels and our predicted labels."
   ]
  },
  {
   "cell_type": "code",
   "execution_count": null,
   "metadata": {
    "id": "S8HvTwi5qgmG"
   },
   "outputs": [],
   "source": [
    "def plot_confusion_matrix(labels, pred_labels):\n",
    "\n",
    "    fig = plt.figure(figsize=(10, 10))\n",
    "    ax = fig.add_subplot(1, 1, 1)\n",
    "    cm = metrics.confusion_matrix(labels, pred_labels)\n",
    "    cm = metrics.ConfusionMatrixDisplay(cm, display_labels=range(10))\n",
    "    cm.plot(values_format='d', cmap='Blues', ax=ax)"
   ]
  },
  {
   "cell_type": "markdown",
   "metadata": {
    "id": "KgBX_wx7-B4D"
   },
   "source": [
    "The results seem reasonable enough, the most confused predictions-actuals are: 3-5 and 2-7."
   ]
  },
  {
   "cell_type": "code",
   "execution_count": null,
   "metadata": {
    "colab": {
     "base_uri": "https://localhost:8080/",
     "height": 580
    },
    "id": "C6gprB1sO7fy",
    "outputId": "c71d372a-8b94-4573-9239-b7b0825b2208"
   },
   "outputs": [
    {
     "ename": "ValueError",
     "evalue": "The number of FixedLocator locations (97), usually from a call to set_ticks, does not match the number of ticklabels (10).",
     "output_type": "error",
     "traceback": [
      "\u001b[0;31m---------------------------------------------------------------------------\u001b[0m",
      "\u001b[0;31mValueError\u001b[0m                                Traceback (most recent call last)",
      "\u001b[0;32m/tmp/ipykernel_8461/3495473412.py\u001b[0m in \u001b[0;36m<module>\u001b[0;34m\u001b[0m\n\u001b[0;32m----> 1\u001b[0;31m \u001b[0mplot_confusion_matrix\u001b[0m\u001b[0;34m(\u001b[0m\u001b[0mlabels\u001b[0m\u001b[0;34m,\u001b[0m \u001b[0mpred_labels\u001b[0m\u001b[0;34m)\u001b[0m\u001b[0;34m\u001b[0m\u001b[0;34m\u001b[0m\u001b[0m\n\u001b[0m",
      "\u001b[0;32m/tmp/ipykernel_8461/4085194355.py\u001b[0m in \u001b[0;36mplot_confusion_matrix\u001b[0;34m(labels, pred_labels)\u001b[0m\n\u001b[1;32m      5\u001b[0m     \u001b[0mcm\u001b[0m \u001b[0;34m=\u001b[0m \u001b[0mmetrics\u001b[0m\u001b[0;34m.\u001b[0m\u001b[0mconfusion_matrix\u001b[0m\u001b[0;34m(\u001b[0m\u001b[0mlabels\u001b[0m\u001b[0;34m,\u001b[0m \u001b[0mpred_labels\u001b[0m\u001b[0;34m)\u001b[0m\u001b[0;34m\u001b[0m\u001b[0;34m\u001b[0m\u001b[0m\n\u001b[1;32m      6\u001b[0m     \u001b[0mcm\u001b[0m \u001b[0;34m=\u001b[0m \u001b[0mmetrics\u001b[0m\u001b[0;34m.\u001b[0m\u001b[0mConfusionMatrixDisplay\u001b[0m\u001b[0;34m(\u001b[0m\u001b[0mcm\u001b[0m\u001b[0;34m,\u001b[0m \u001b[0mdisplay_labels\u001b[0m\u001b[0;34m=\u001b[0m\u001b[0mrange\u001b[0m\u001b[0;34m(\u001b[0m\u001b[0;36m10\u001b[0m\u001b[0;34m)\u001b[0m\u001b[0;34m)\u001b[0m\u001b[0;34m\u001b[0m\u001b[0;34m\u001b[0m\u001b[0m\n\u001b[0;32m----> 7\u001b[0;31m     \u001b[0mcm\u001b[0m\u001b[0;34m.\u001b[0m\u001b[0mplot\u001b[0m\u001b[0;34m(\u001b[0m\u001b[0mvalues_format\u001b[0m\u001b[0;34m=\u001b[0m\u001b[0;34m'd'\u001b[0m\u001b[0;34m,\u001b[0m \u001b[0mcmap\u001b[0m\u001b[0;34m=\u001b[0m\u001b[0;34m'Blues'\u001b[0m\u001b[0;34m,\u001b[0m \u001b[0max\u001b[0m\u001b[0;34m=\u001b[0m\u001b[0max\u001b[0m\u001b[0;34m)\u001b[0m\u001b[0;34m\u001b[0m\u001b[0;34m\u001b[0m\u001b[0m\n\u001b[0m",
      "\u001b[0;32m/opt/conda/lib/python3.9/site-packages/sklearn/utils/validation.py\u001b[0m in \u001b[0;36minner_f\u001b[0;34m(*args, **kwargs)\u001b[0m\n\u001b[1;32m     61\u001b[0m             \u001b[0mextra_args\u001b[0m \u001b[0;34m=\u001b[0m \u001b[0mlen\u001b[0m\u001b[0;34m(\u001b[0m\u001b[0margs\u001b[0m\u001b[0;34m)\u001b[0m \u001b[0;34m-\u001b[0m \u001b[0mlen\u001b[0m\u001b[0;34m(\u001b[0m\u001b[0mall_args\u001b[0m\u001b[0;34m)\u001b[0m\u001b[0;34m\u001b[0m\u001b[0;34m\u001b[0m\u001b[0m\n\u001b[1;32m     62\u001b[0m             \u001b[0;32mif\u001b[0m \u001b[0mextra_args\u001b[0m \u001b[0;34m<=\u001b[0m \u001b[0;36m0\u001b[0m\u001b[0;34m:\u001b[0m\u001b[0;34m\u001b[0m\u001b[0;34m\u001b[0m\u001b[0m\n\u001b[0;32m---> 63\u001b[0;31m                 \u001b[0;32mreturn\u001b[0m \u001b[0mf\u001b[0m\u001b[0;34m(\u001b[0m\u001b[0;34m*\u001b[0m\u001b[0margs\u001b[0m\u001b[0;34m,\u001b[0m \u001b[0;34m**\u001b[0m\u001b[0mkwargs\u001b[0m\u001b[0;34m)\u001b[0m\u001b[0;34m\u001b[0m\u001b[0;34m\u001b[0m\u001b[0m\n\u001b[0m\u001b[1;32m     64\u001b[0m \u001b[0;34m\u001b[0m\u001b[0m\n\u001b[1;32m     65\u001b[0m             \u001b[0;31m# extra_args > 0\u001b[0m\u001b[0;34m\u001b[0m\u001b[0;34m\u001b[0m\u001b[0;34m\u001b[0m\u001b[0m\n",
      "\u001b[0;32m/opt/conda/lib/python3.9/site-packages/sklearn/metrics/_plot/confusion_matrix.py\u001b[0m in \u001b[0;36mplot\u001b[0;34m(self, include_values, cmap, xticks_rotation, values_format, ax, colorbar)\u001b[0m\n\u001b[1;32m    151\u001b[0m         \u001b[0;32mif\u001b[0m \u001b[0mcolorbar\u001b[0m\u001b[0;34m:\u001b[0m\u001b[0;34m\u001b[0m\u001b[0;34m\u001b[0m\u001b[0m\n\u001b[1;32m    152\u001b[0m             \u001b[0mfig\u001b[0m\u001b[0;34m.\u001b[0m\u001b[0mcolorbar\u001b[0m\u001b[0;34m(\u001b[0m\u001b[0mself\u001b[0m\u001b[0;34m.\u001b[0m\u001b[0mim_\u001b[0m\u001b[0;34m,\u001b[0m \u001b[0max\u001b[0m\u001b[0;34m=\u001b[0m\u001b[0max\u001b[0m\u001b[0;34m)\u001b[0m\u001b[0;34m\u001b[0m\u001b[0;34m\u001b[0m\u001b[0m\n\u001b[0;32m--> 153\u001b[0;31m         ax.set(xticks=np.arange(n_classes),\n\u001b[0m\u001b[1;32m    154\u001b[0m                \u001b[0myticks\u001b[0m\u001b[0;34m=\u001b[0m\u001b[0mnp\u001b[0m\u001b[0;34m.\u001b[0m\u001b[0marange\u001b[0m\u001b[0;34m(\u001b[0m\u001b[0mn_classes\u001b[0m\u001b[0;34m)\u001b[0m\u001b[0;34m,\u001b[0m\u001b[0;34m\u001b[0m\u001b[0;34m\u001b[0m\u001b[0m\n\u001b[1;32m    155\u001b[0m                \u001b[0mxticklabels\u001b[0m\u001b[0;34m=\u001b[0m\u001b[0mdisplay_labels\u001b[0m\u001b[0;34m,\u001b[0m\u001b[0;34m\u001b[0m\u001b[0;34m\u001b[0m\u001b[0m\n",
      "\u001b[0;32m/opt/conda/lib/python3.9/site-packages/matplotlib/artist.py\u001b[0m in \u001b[0;36mset\u001b[0;34m(self, **kwargs)\u001b[0m\n\u001b[1;32m   1177\u001b[0m         \u001b[0;32mif\u001b[0m \u001b[0mmove_color_to_start\u001b[0m\u001b[0;34m:\u001b[0m\u001b[0;34m\u001b[0m\u001b[0;34m\u001b[0m\u001b[0m\n\u001b[1;32m   1178\u001b[0m             \u001b[0mkwargs\u001b[0m \u001b[0;34m=\u001b[0m \u001b[0;34m{\u001b[0m\u001b[0;34m\"color\"\u001b[0m\u001b[0;34m:\u001b[0m \u001b[0mkwargs\u001b[0m\u001b[0;34m.\u001b[0m\u001b[0mpop\u001b[0m\u001b[0;34m(\u001b[0m\u001b[0;34m\"color\"\u001b[0m\u001b[0;34m)\u001b[0m\u001b[0;34m,\u001b[0m \u001b[0;34m**\u001b[0m\u001b[0mkwargs\u001b[0m\u001b[0;34m}\u001b[0m\u001b[0;34m\u001b[0m\u001b[0;34m\u001b[0m\u001b[0m\n\u001b[0;32m-> 1179\u001b[0;31m         \u001b[0;32mreturn\u001b[0m \u001b[0mself\u001b[0m\u001b[0;34m.\u001b[0m\u001b[0mupdate\u001b[0m\u001b[0;34m(\u001b[0m\u001b[0mkwargs\u001b[0m\u001b[0;34m)\u001b[0m\u001b[0;34m\u001b[0m\u001b[0;34m\u001b[0m\u001b[0m\n\u001b[0m\u001b[1;32m   1180\u001b[0m \u001b[0;34m\u001b[0m\u001b[0m\n\u001b[1;32m   1181\u001b[0m     \u001b[0;32mdef\u001b[0m \u001b[0mfindobj\u001b[0m\u001b[0;34m(\u001b[0m\u001b[0mself\u001b[0m\u001b[0;34m,\u001b[0m \u001b[0mmatch\u001b[0m\u001b[0;34m=\u001b[0m\u001b[0;32mNone\u001b[0m\u001b[0;34m,\u001b[0m \u001b[0minclude_self\u001b[0m\u001b[0;34m=\u001b[0m\u001b[0;32mTrue\u001b[0m\u001b[0;34m)\u001b[0m\u001b[0;34m:\u001b[0m\u001b[0;34m\u001b[0m\u001b[0;34m\u001b[0m\u001b[0m\n",
      "\u001b[0;32m/opt/conda/lib/python3.9/site-packages/matplotlib/artist.py\u001b[0m in \u001b[0;36mupdate\u001b[0;34m(self, props)\u001b[0m\n\u001b[1;32m   1062\u001b[0m                         raise AttributeError(f\"{type(self).__name__!r} object \"\n\u001b[1;32m   1063\u001b[0m                                              f\"has no property {k!r}\")\n\u001b[0;32m-> 1064\u001b[0;31m                     \u001b[0mret\u001b[0m\u001b[0;34m.\u001b[0m\u001b[0mappend\u001b[0m\u001b[0;34m(\u001b[0m\u001b[0mfunc\u001b[0m\u001b[0;34m(\u001b[0m\u001b[0mv\u001b[0m\u001b[0;34m)\u001b[0m\u001b[0;34m)\u001b[0m\u001b[0;34m\u001b[0m\u001b[0;34m\u001b[0m\u001b[0m\n\u001b[0m\u001b[1;32m   1065\u001b[0m         \u001b[0;32mif\u001b[0m \u001b[0mret\u001b[0m\u001b[0;34m:\u001b[0m\u001b[0;34m\u001b[0m\u001b[0;34m\u001b[0m\u001b[0m\n\u001b[1;32m   1066\u001b[0m             \u001b[0mself\u001b[0m\u001b[0;34m.\u001b[0m\u001b[0mpchanged\u001b[0m\u001b[0;34m(\u001b[0m\u001b[0;34m)\u001b[0m\u001b[0;34m\u001b[0m\u001b[0;34m\u001b[0m\u001b[0m\n",
      "\u001b[0;32m/opt/conda/lib/python3.9/site-packages/matplotlib/axes/_base.py\u001b[0m in \u001b[0;36mwrapper\u001b[0;34m(self, *args, **kwargs)\u001b[0m\n\u001b[1;32m     71\u001b[0m \u001b[0;34m\u001b[0m\u001b[0m\n\u001b[1;32m     72\u001b[0m         \u001b[0;32mdef\u001b[0m \u001b[0mwrapper\u001b[0m\u001b[0;34m(\u001b[0m\u001b[0mself\u001b[0m\u001b[0;34m,\u001b[0m \u001b[0;34m*\u001b[0m\u001b[0margs\u001b[0m\u001b[0;34m,\u001b[0m \u001b[0;34m**\u001b[0m\u001b[0mkwargs\u001b[0m\u001b[0;34m)\u001b[0m\u001b[0;34m:\u001b[0m\u001b[0;34m\u001b[0m\u001b[0;34m\u001b[0m\u001b[0m\n\u001b[0;32m---> 73\u001b[0;31m             \u001b[0;32mreturn\u001b[0m \u001b[0mget_method\u001b[0m\u001b[0;34m(\u001b[0m\u001b[0mself\u001b[0m\u001b[0;34m)\u001b[0m\u001b[0;34m(\u001b[0m\u001b[0;34m*\u001b[0m\u001b[0margs\u001b[0m\u001b[0;34m,\u001b[0m \u001b[0;34m**\u001b[0m\u001b[0mkwargs\u001b[0m\u001b[0;34m)\u001b[0m\u001b[0;34m\u001b[0m\u001b[0;34m\u001b[0m\u001b[0m\n\u001b[0m\u001b[1;32m     74\u001b[0m \u001b[0;34m\u001b[0m\u001b[0m\n\u001b[1;32m     75\u001b[0m         \u001b[0mwrapper\u001b[0m\u001b[0;34m.\u001b[0m\u001b[0m__module__\u001b[0m \u001b[0;34m=\u001b[0m \u001b[0mowner\u001b[0m\u001b[0;34m.\u001b[0m\u001b[0m__module__\u001b[0m\u001b[0;34m\u001b[0m\u001b[0;34m\u001b[0m\u001b[0m\n",
      "\u001b[0;32m/opt/conda/lib/python3.9/site-packages/matplotlib/_api/deprecation.py\u001b[0m in \u001b[0;36mwrapper\u001b[0;34m(*args, **kwargs)\u001b[0m\n\u001b[1;32m    469\u001b[0m                 \u001b[0;34m\"parameter will become keyword-only %(removal)s.\"\u001b[0m\u001b[0;34m,\u001b[0m\u001b[0;34m\u001b[0m\u001b[0;34m\u001b[0m\u001b[0m\n\u001b[1;32m    470\u001b[0m                 name=name, obj_type=f\"parameter of {func.__name__}()\")\n\u001b[0;32m--> 471\u001b[0;31m         \u001b[0;32mreturn\u001b[0m \u001b[0mfunc\u001b[0m\u001b[0;34m(\u001b[0m\u001b[0;34m*\u001b[0m\u001b[0margs\u001b[0m\u001b[0;34m,\u001b[0m \u001b[0;34m**\u001b[0m\u001b[0mkwargs\u001b[0m\u001b[0;34m)\u001b[0m\u001b[0;34m\u001b[0m\u001b[0;34m\u001b[0m\u001b[0m\n\u001b[0m\u001b[1;32m    472\u001b[0m \u001b[0;34m\u001b[0m\u001b[0m\n\u001b[1;32m    473\u001b[0m     \u001b[0;32mreturn\u001b[0m \u001b[0mwrapper\u001b[0m\u001b[0;34m\u001b[0m\u001b[0;34m\u001b[0m\u001b[0m\n",
      "\u001b[0;32m/opt/conda/lib/python3.9/site-packages/matplotlib/axis.py\u001b[0m in \u001b[0;36m_set_ticklabels\u001b[0;34m(self, labels, fontdict, minor, **kwargs)\u001b[0m\n\u001b[1;32m   1788\u001b[0m         \u001b[0;32mif\u001b[0m \u001b[0mfontdict\u001b[0m \u001b[0;32mis\u001b[0m \u001b[0;32mnot\u001b[0m \u001b[0;32mNone\u001b[0m\u001b[0;34m:\u001b[0m\u001b[0;34m\u001b[0m\u001b[0;34m\u001b[0m\u001b[0m\n\u001b[1;32m   1789\u001b[0m             \u001b[0mkwargs\u001b[0m\u001b[0;34m.\u001b[0m\u001b[0mupdate\u001b[0m\u001b[0;34m(\u001b[0m\u001b[0mfontdict\u001b[0m\u001b[0;34m)\u001b[0m\u001b[0;34m\u001b[0m\u001b[0;34m\u001b[0m\u001b[0m\n\u001b[0;32m-> 1790\u001b[0;31m         \u001b[0;32mreturn\u001b[0m \u001b[0mself\u001b[0m\u001b[0;34m.\u001b[0m\u001b[0mset_ticklabels\u001b[0m\u001b[0;34m(\u001b[0m\u001b[0mlabels\u001b[0m\u001b[0;34m,\u001b[0m \u001b[0mminor\u001b[0m\u001b[0;34m=\u001b[0m\u001b[0mminor\u001b[0m\u001b[0;34m,\u001b[0m \u001b[0;34m**\u001b[0m\u001b[0mkwargs\u001b[0m\u001b[0;34m)\u001b[0m\u001b[0;34m\u001b[0m\u001b[0;34m\u001b[0m\u001b[0m\n\u001b[0m\u001b[1;32m   1791\u001b[0m \u001b[0;34m\u001b[0m\u001b[0m\n\u001b[1;32m   1792\u001b[0m     \u001b[0;32mdef\u001b[0m \u001b[0mset_ticks\u001b[0m\u001b[0;34m(\u001b[0m\u001b[0mself\u001b[0m\u001b[0;34m,\u001b[0m \u001b[0mticks\u001b[0m\u001b[0;34m,\u001b[0m \u001b[0;34m*\u001b[0m\u001b[0;34m,\u001b[0m \u001b[0mminor\u001b[0m\u001b[0;34m=\u001b[0m\u001b[0;32mFalse\u001b[0m\u001b[0;34m)\u001b[0m\u001b[0;34m:\u001b[0m\u001b[0;34m\u001b[0m\u001b[0;34m\u001b[0m\u001b[0m\n",
      "\u001b[0;32m/opt/conda/lib/python3.9/site-packages/matplotlib/axis.py\u001b[0m in \u001b[0;36mset_ticklabels\u001b[0;34m(self, ticklabels, minor, **kwargs)\u001b[0m\n\u001b[1;32m   1709\u001b[0m             \u001b[0;31m# remove all tick labels, so only error for > 0 ticklabels\u001b[0m\u001b[0;34m\u001b[0m\u001b[0;34m\u001b[0m\u001b[0;34m\u001b[0m\u001b[0m\n\u001b[1;32m   1710\u001b[0m             \u001b[0;32mif\u001b[0m \u001b[0mlen\u001b[0m\u001b[0;34m(\u001b[0m\u001b[0mlocator\u001b[0m\u001b[0;34m.\u001b[0m\u001b[0mlocs\u001b[0m\u001b[0;34m)\u001b[0m \u001b[0;34m!=\u001b[0m \u001b[0mlen\u001b[0m\u001b[0;34m(\u001b[0m\u001b[0mticklabels\u001b[0m\u001b[0;34m)\u001b[0m \u001b[0;32mand\u001b[0m \u001b[0mlen\u001b[0m\u001b[0;34m(\u001b[0m\u001b[0mticklabels\u001b[0m\u001b[0;34m)\u001b[0m \u001b[0;34m!=\u001b[0m \u001b[0;36m0\u001b[0m\u001b[0;34m:\u001b[0m\u001b[0;34m\u001b[0m\u001b[0;34m\u001b[0m\u001b[0m\n\u001b[0;32m-> 1711\u001b[0;31m                 raise ValueError(\n\u001b[0m\u001b[1;32m   1712\u001b[0m                     \u001b[0;34m\"The number of FixedLocator locations\"\u001b[0m\u001b[0;34m\u001b[0m\u001b[0;34m\u001b[0m\u001b[0m\n\u001b[1;32m   1713\u001b[0m                     \u001b[0;34mf\" ({len(locator.locs)}), usually from a call to\"\u001b[0m\u001b[0;34m\u001b[0m\u001b[0;34m\u001b[0m\u001b[0m\n",
      "\u001b[0;31mValueError\u001b[0m: The number of FixedLocator locations (97), usually from a call to set_ticks, does not match the number of ticklabels (10)."
     ]
    },
    {
     "data": {
      "image/png": "[encoded data removed]",
      "text/plain": [
       "<Figure size 720x720 with 2 Axes>"
      ]
     },
     "metadata": {
      "needs_background": "light"
     },
     "output_type": "display_data"
    }
   ],
   "source": [
    "plot_confusion_matrix(labels, pred_labels)"
   ]
  },
  {
   "cell_type": "markdown",
   "metadata": {
    "id": "hgWqvvPg4O-9"
   },
   "source": [
    "Next, for each of our examples, we can check if our predicted label matches our actual label."
   ]
  },
  {
   "cell_type": "code",
   "execution_count": null,
   "metadata": {
    "id": "FKTDsxMhvXv_"
   },
   "outputs": [],
   "source": [
    "corrects = torch.eq(labels, pred_labels)"
   ]
  },
  {
   "cell_type": "markdown",
   "metadata": {
    "id": "p0O_8iZxPBtW"
   },
   "source": [
    "We can then loop through all of the examples over our model's predictions and store all the examples the model got incorrect into an array.\n",
    "\n",
    "Then, we sort these incorrect examples by how confident they were, with the most confident being first."
   ]
  },
  {
   "cell_type": "code",
   "execution_count": null,
   "metadata": {
    "id": "EAAZKuyYPCi3"
   },
   "outputs": [],
   "source": [
    "incorrect_examples = []\n",
    "\n",
    "for image, label, prob, correct in zip(images, labels, probs, corrects):\n",
    "    if not correct:\n",
    "        incorrect_examples.append((image, label, prob))\n",
    "\n",
    "incorrect_examples.sort(reverse=True,\n",
    "                        key=lambda x: torch.max(x[2], dim=0).values)"
   ]
  },
  {
   "cell_type": "markdown",
   "metadata": {
    "id": "gbq9Yjki4O_E"
   },
   "source": [
    "We can then plot the incorrectly predicted images along with how confident they were on the actual label and how confident they were at the incorrect label."
   ]
  },
  {
   "cell_type": "code",
   "execution_count": null,
   "metadata": {
    "id": "EDFDmbbQ1oRF"
   },
   "outputs": [],
   "source": [
    "def plot_most_incorrect(incorrect, n_images):\n",
    "\n",
    "    rows = int(np.sqrt(n_images))\n",
    "    cols = int(np.sqrt(n_images))\n",
    "\n",
    "    fig = plt.figure(figsize=(20, 10))\n",
    "    for i in range(rows*cols):\n",
    "        ax = fig.add_subplot(rows, cols, i+1)\n",
    "        image, true_label, probs = incorrect[i]\n",
    "        true_prob = probs[true_label]\n",
    "        incorrect_prob, incorrect_label = torch.max(probs, dim=0)\n",
    "        ax.imshow(image.view(28, 28).cpu().numpy(), cmap='bone')\n",
    "        ax.set_title(f'true label: {true_label} ({true_prob:.3f})\\n'\n",
    "                     f'pred label: {incorrect_label} ({incorrect_prob:.3f})')\n",
    "        ax.axis('off')\n",
    "    fig.subplots_adjust(hspace=0.5)"
   ]
  },
  {
   "cell_type": "markdown",
   "metadata": {
    "id": "ZNUqTyZ94O_J"
   },
   "source": [
    "Below we can see the 25 images the model got incorrect and was most confident about.\n",
    "\n",
    "A lot of these digits are irregular, so it's difficult for the model to do well on these. The images that do look fine, if you squint you can sort of see why the model got it wrong.\n",
    "\n",
    "Why is the neural network so confident on the irregular digits? Surely if it's a weird looking digit then the output of the softmax should be close to evenly distributed across a few digits the model isn't sure about, right? Well, no. The model has been trained to only be incredibly confident about its predictions, and thus when it sees an image it will always be confident about what it is."
   ]
  },
  {
   "cell_type": "code",
   "execution_count": null,
   "metadata": {
    "colab": {
     "base_uri": "https://localhost:8080/",
     "height": 606
    },
    "id": "HtZG13Ui6aYT",
    "outputId": "0c02244e-43d5-4871-8397-b0b2fe7ef8c9"
   },
   "outputs": [],
   "source": [
    "N_IMAGES = 25\n",
    "\n",
    "plot_most_incorrect(incorrect_examples, N_IMAGES)"
   ]
  },
  {
   "cell_type": "markdown",
   "metadata": {
    "id": "t6yj_pS14O_P"
   },
   "source": [
    "Another thing we can do is get the output and intermediate representations from the model and try to visualize them.\n",
    "\n",
    "The function below loops through the provided dataset and gets the output from the model and the intermediate representation from the layer before that, the second hidden layer."
   ]
  },
  {
   "cell_type": "code",
   "execution_count": null,
   "metadata": {
    "id": "XslX4Zd_TiGu"
   },
   "outputs": [],
   "source": [
    "def get_representations(model, iterator, device):\n",
    "\n",
    "    model.eval()\n",
    "\n",
    "    outputs = []\n",
    "    intermediates = []\n",
    "    labels = []\n",
    "\n",
    "    with torch.no_grad():\n",
    "\n",
    "        for (x, y) in tqdm(iterator):\n",
    "\n",
    "            x = x.to(device)\n",
    "\n",
    "            y_pred, h = model(x)\n",
    "\n",
    "            outputs.append(y_pred.cpu())\n",
    "            intermediates.append(h.cpu())\n",
    "            labels.append(y)\n",
    "\n",
    "    outputs = torch.cat(outputs, dim=0)\n",
    "    intermediates = torch.cat(intermediates, dim=0)\n",
    "    labels = torch.cat(labels, dim=0)\n",
    "\n",
    "    return outputs, intermediates, labels"
   ]
  },
  {
   "cell_type": "markdown",
   "metadata": {
    "id": "NabFzvWf4O_U"
   },
   "source": [
    "We run the function to get the representations."
   ]
  },
  {
   "cell_type": "code",
   "execution_count": null,
   "metadata": {
    "id": "cOGCUKbzV_T7"
   },
   "outputs": [],
   "source": [
    "outputs, intermediates, labels = get_representations(model,\n",
    "                                                     train_iterator,\n",
    "                                                     device)"
   ]
  },
  {
   "cell_type": "markdown",
   "metadata": {
    "id": "CPxcxsYm4O_Z"
   },
   "source": [
    "The data we want to visualize is in ten dimensions and 100 dimensions. We want to get this down to two dimensions, so we can actually plot it. \n",
    "\n",
    "The first technique we'll use is PCA (principal component analysis). First, we'll define a function to calculate the PCA of our data, and then we'll define a function to plot it."
   ]
  },
  {
   "cell_type": "code",
   "execution_count": null,
   "metadata": {
    "id": "fN1ZIyWcUDgV"
   },
   "outputs": [],
   "source": [
    "def get_pca(data, n_components=2):\n",
    "    pca = decomposition.PCA()\n",
    "    pca.n_components = n_components\n",
    "    pca_data = pca.fit_transform(data)\n",
    "    return pca_data"
   ]
  },
  {
   "cell_type": "code",
   "execution_count": null,
   "metadata": {
    "id": "eIgm25aDXFJe"
   },
   "outputs": [],
   "source": [
    "def plot_representations(data, labels, n_images=None):\n",
    "    if n_images is not None:\n",
    "        data = data[:n_images]\n",
    "        labels = labels[:n_images]\n",
    "    fig = plt.figure(figsize=(10, 10))\n",
    "    ax = fig.add_subplot(111)\n",
    "    scatter = ax.scatter(data[:, 0], data[:, 1], c=labels, cmap='tab10')\n",
    "    handles, labels = scatter.legend_elements()\n",
    "    ax.legend(handles=handles, labels=labels)"
   ]
  },
  {
   "cell_type": "markdown",
   "metadata": {
    "id": "gtWWUyOt4O_g"
   },
   "source": [
    "First, we plot the representations from the ten dimensional output layer, reduced down to two dimensions."
   ]
  },
  {
   "cell_type": "code",
   "execution_count": null,
   "metadata": {
    "colab": {
     "base_uri": "https://localhost:8080/",
     "height": 592
    },
    "id": "xQDRASzrX1mV",
    "outputId": "b2247b66-b715-447d-c709-3fc39fecaaeb"
   },
   "outputs": [],
   "source": [
    "output_pca_data = get_pca(outputs)\n",
    "plot_representations(output_pca_data, labels)"
   ]
  },
  {
   "cell_type": "markdown",
   "metadata": {
    "id": "xwscI3sn4O_j"
   },
   "source": [
    "Next, we'll plot the outputs of the second hidden layer. \n",
    "\n",
    "The clusters seem similar to the one above. In fact if we rotated the below image anti-clockwise it wouldn't be too far off the PCA of the output representations."
   ]
  },
  {
   "cell_type": "code",
   "execution_count": null,
   "metadata": {
    "colab": {
     "base_uri": "https://localhost:8080/",
     "height": 592
    },
    "id": "gE9HJK-EX70_",
    "outputId": "bcb1510c-04cc-455e-d13c-80e96d05c2ec"
   },
   "outputs": [],
   "source": [
    "intermediate_pca_data = get_pca(intermediates)\n",
    "plot_representations(intermediate_pca_data, labels)"
   ]
  },
  {
   "cell_type": "markdown",
   "metadata": {
    "id": "FDk5-M0_4O_m"
   },
   "source": [
    "An alternative to PCA is t-SNE (t-distributed stochastic neighbor embedding). \n",
    "\n",
    "This is commonly thought of as being \"better\" than PCA, although it can be [misinterpreted](https://distill.pub/2016/misread-tsne/)."
   ]
  },
  {
   "cell_type": "code",
   "execution_count": null,
   "metadata": {
    "id": "Vw7O01SdkKsh"
   },
   "outputs": [],
   "source": [
    "def get_tsne(data, n_components=2, n_images=None):\n",
    "    if n_images is not None:\n",
    "        data = data[:n_images]\n",
    "    tsne = manifold.TSNE(n_components=n_components, random_state=0)\n",
    "    tsne_data = tsne.fit_transform(data)\n",
    "    return tsne_data"
   ]
  },
  {
   "cell_type": "markdown",
   "metadata": {
    "id": "-BJEuBfP4O_o"
   },
   "source": [
    "t-SNE is very slow, so we only compute it on a subset of the representations.\n",
    "\n",
    "The classes look very well separated, and it is possible to use [k-NN](https://en.wikipedia.org/wiki/K-nearest_neighbors_algorithm) on this representation to achieve decent accuracy."
   ]
  },
  {
   "cell_type": "code",
   "execution_count": null,
   "metadata": {
    "colab": {
     "base_uri": "https://localhost:8080/",
     "height": 592
    },
    "id": "RR3NPjJJklBa",
    "outputId": "e592cd16-3332-4c4a-aec1-b0eab5b9f598"
   },
   "outputs": [],
   "source": [
    "N_IMAGES = 5_000\n",
    "\n",
    "output_tsne_data = get_tsne(outputs, n_images=N_IMAGES)\n",
    "plot_representations(output_tsne_data, labels, n_images=N_IMAGES)"
   ]
  },
  {
   "cell_type": "markdown",
   "metadata": {
    "id": "meihOEmK4O_r"
   },
   "source": [
    "We plot the intermediate representations on the same subset.\n",
    "\n",
    "Again, the classes look well separated, though less so than the output representations. This is because these representations are intermediate features that the neural network has extracted and will use them in further layers to weigh up the evidence of what digit is in the image. Hence, in theory, the classes should become more separated the closer we are to the output layer, which is exactly what we see here."
   ]
  },
  {
   "cell_type": "code",
   "execution_count": null,
   "metadata": {
    "colab": {
     "base_uri": "https://localhost:8080/",
     "height": 592
    },
    "id": "UCh-XJWclDfu",
    "outputId": "92e9559b-3964-45bc-ac9b-3f83c16fc1dc"
   },
   "outputs": [],
   "source": [
    "intermediate_tsne_data = get_tsne(intermediates, n_images=N_IMAGES)\n",
    "plot_representations(intermediate_tsne_data, labels, n_images=N_IMAGES)"
   ]
  },
  {
   "cell_type": "markdown",
   "metadata": {
    "id": "FqMOGh5u4O_u"
   },
   "source": [
    "Another experiment we can do is try and generate fake digits. \n",
    "\n",
    "The function below will repeatedly generate random noise and feed it through the model and find the most confidently generated digit for the desired class."
   ]
  },
  {
   "cell_type": "code",
   "execution_count": null,
   "metadata": {
    "id": "4YG_Qc6do93Z"
   },
   "outputs": [],
   "source": [
    "def imagine_digit(model, digit, device, n_iterations=50_000):\n",
    "\n",
    "    model.eval()\n",
    "\n",
    "    best_prob = 0\n",
    "    best_image = None\n",
    "\n",
    "    with torch.no_grad():\n",
    "\n",
    "        for _ in trange(n_iterations):\n",
    "\n",
    "            x = torch.randn(32, 28, 28).to(device)\n",
    "\n",
    "            y_pred, _ = model(x)\n",
    "\n",
    "            preds = F.softmax(y_pred, dim=-1)\n",
    "\n",
    "            _best_prob, index = torch.max(preds[:, digit], dim=0)\n",
    "\n",
    "            if _best_prob > best_prob:\n",
    "                best_prob = _best_prob\n",
    "                best_image = x[index]\n",
    "\n",
    "    return best_image, best_prob"
   ]
  },
  {
   "cell_type": "markdown",
   "metadata": {
    "id": "vokYX2Iq4O_z"
   },
   "source": [
    "Let's try and generate a perfect three."
   ]
  },
  {
   "cell_type": "code",
   "execution_count": null,
   "metadata": {
    "id": "f4Uh0BR-pAY5"
   },
   "outputs": [],
   "source": [
    "DIGIT = 3\n",
    "\n",
    "best_image, best_prob = imagine_digit(model, DIGIT, device)"
   ]
  },
  {
   "cell_type": "markdown",
   "metadata": {
    "id": "0yhYVep94O_1"
   },
   "source": [
    "Looking at the best probability achieved, we have a digit that the model is 100% confident is a three. "
   ]
  },
  {
   "cell_type": "code",
   "execution_count": null,
   "metadata": {
    "colab": {
     "base_uri": "https://localhost:8080/",
     "height": 35
    },
    "id": "yUuvBXsU3lK1",
    "outputId": "6cd4d13b-7ea3-47fe-a71b-22d8af853e1d"
   },
   "outputs": [],
   "source": [
    "print(f'Best image probability: {best_prob.item()*100:.2f}%')"
   ]
  },
  {
   "cell_type": "markdown",
   "metadata": {
    "id": "gvtjPCAE4O_3"
   },
   "source": [
    "Unfortunately, the imagined perfect three just looks like random noise.\n",
    "\n",
    "As mentioned before, the model has only been trained to be incredibly confident with its predictions, so when faced with random noise will try and classify it as something. \n",
    "\n",
    "It is also possible that the model is *overfitting* on the training set - that there is a common pattern in handwritten threes within the training set, but it's not the pattern we want our model to learn."
   ]
  },
  {
   "cell_type": "code",
   "execution_count": null,
   "metadata": {
    "colab": {
     "base_uri": "https://localhost:8080/",
     "height": 248
    },
    "id": "0-0u1HGhpNrJ",
    "outputId": "568c9af6-4e70-40e9-8bb9-101a90db8170"
   },
   "outputs": [],
   "source": [
    "plt.imshow(best_image.cpu().numpy(), cmap='bone')\n",
    "plt.axis('off');"
   ]
  },
  {
   "cell_type": "markdown",
   "metadata": {
    "id": "8rpH_wa04O_6"
   },
   "source": [
    "Finally, we can plot the weights in the first layer of our model. \n",
    "\n",
    "The hope is that there's maybe one neuron in this first layer that's learned to look for certain patterns in the input and thus has high weight values indicating this pattern. If we then plot these weights, we should see these patterns."
   ]
  },
  {
   "cell_type": "code",
   "execution_count": null,
   "metadata": {
    "id": "SMLbeLze0o8E"
   },
   "outputs": [],
   "source": [
    "def plot_weights(weights, n_weights):\n",
    "\n",
    "    rows = int(np.sqrt(n_weights))\n",
    "    cols = int(np.sqrt(n_weights))\n",
    "\n",
    "    fig = plt.figure(figsize=(20, 10))\n",
    "    for i in range(rows*cols):\n",
    "        ax = fig.add_subplot(rows, cols, i+1)\n",
    "        ax.imshow(weights[i].view(28, 28).cpu().numpy(), cmap='bone')\n",
    "        ax.axis('off')"
   ]
  },
  {
   "cell_type": "markdown",
   "metadata": {
    "id": "4Pvv1B104O__"
   },
   "source": [
    "Looking at these weights we see a few of them look like random noise but some of them do have weird patterns within them. These patterns show \"ghostly\" image looking shapes, but are clearly not images."
   ]
  },
  {
   "cell_type": "code",
   "execution_count": null,
   "metadata": {
    "colab": {
     "base_uri": "https://localhost:8080/",
     "height": 575
    },
    "id": "yqzZus6a24_c",
    "outputId": "6140a7ab-56be-409c-c13a-d90a207e161b"
   },
   "outputs": [],
   "source": [
    "N_WEIGHTS = 25\n",
    "\n",
    "weights = model.input_fc.weight.data\n",
    "\n",
    "plot_weights(weights, N_WEIGHTS)"
   ]
  },
  {
   "cell_type": "markdown",
   "metadata": {
    "id": "pfZg0Y2o4PAC"
   },
   "source": [
    "### Conclusions\n",
    "\n",
    "In this notebook we have shown: \n",
    "- loading Torchvision datasets\n",
    "- loading transforms to augment and normalize our data\n",
    "- defining a MLP\n",
    "- training a model to achieve >97% accuracy\n",
    "- viewing our model's mistakes\n",
    "- visualizing our data in lower dimensions with PCA and t-SNE\n",
    "- generating fake digits\n",
    "- viewing the learned weights of our model\n",
    "\n",
    "In the next notebook we'll implement a convolutional neural network (CNN) and evaluate it on the MNIST dataset."
   ]
  }
 ],
 "metadata": {
  "accelerator": "GPU",
  "colab": {
   "machine_shape": "hm",
   "name": "1 - Multilayer Perceptron.ipynb",
   "provenance": []
  },
  "kernelspec": {
   "display_name": "Python 3 (ipykernel)",
   "language": "python",
   "name": "python3"
  },
  "language_info": {
   "codemirror_mode": {
    "name": "ipython",
    "version": 3
   },
   "file_extension": ".py",
   "mimetype": "text/x-python",
   "name": "python",
   "nbconvert_exporter": "python",
   "pygments_lexer": "ipython3",
   "version": "3.9.5"
  }
 },
 "nbformat": 4,
 "nbformat_minor": 1
}
